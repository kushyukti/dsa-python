{
 "cells": [
  {
   "cell_type": "code",
   "execution_count": 1,
   "id": "9363e9f6-ce7b-4cc0-90fa-51d551509d06",
   "metadata": {},
   "outputs": [
    {
     "name": "stdout",
     "output_type": "stream",
     "text": [
      "20 25 50 40 60 -------------\n",
      "20 50 40 60 "
     ]
    }
   ],
   "source": [
    "class Node:\n",
    "    def __init__(self, item= None, next = None):\n",
    "        self.item = item\n",
    "        self.next = next\n",
    "class SLL:\n",
    "    def __init__(self, start = None):\n",
    "        self.start = start\n",
    "\n",
    "    def is_empty(self):\n",
    "        return self.start == None\n",
    "\n",
    "\n",
    "    def insert_at_start(self, item):\n",
    "        n = Node(item, self.start)\n",
    "        self.start = n\n",
    "\n",
    "    def insert_at_last(self, item):\n",
    "        n = Node(item)\n",
    "\n",
    "        if not self.is_empty():\n",
    "            temp = self.start\n",
    "            while(temp.next is not None):\n",
    "                temp = temp.next\n",
    "            temp.next = n\n",
    "        else:\n",
    "            self.start = n        \n",
    "        \n",
    "    def search(self,val):\n",
    "        temp = self.start\n",
    "        if not self.is_empty():\n",
    "            while(temp.next is not None):\n",
    "                if(temp.item == val):\n",
    "                    return temp\n",
    "                temp = temp.next\n",
    "\n",
    "        return None\n",
    "\n",
    "    def insert_after(self, item, temp):\n",
    "        if temp is not None:\n",
    "            n = Node(item,temp.next)\n",
    "            temp.next = n\n",
    "\n",
    "    def print_list(self):\n",
    "        temp = self.start\n",
    "        while(temp is not None):\n",
    "            print(temp.item, end=\" \")\n",
    "            temp= temp.next\n",
    "\n",
    "\n",
    "    def delete_first(self):\n",
    "        if self.start is not None:\n",
    "            self.start = self.start.next\n",
    "\n",
    "    def delete_last(self):\n",
    "        if self.start is None:\n",
    "            pass\n",
    "        elif self.start.next is None:\n",
    "            self.start = None\n",
    "        else:\n",
    "            temp = self.start\n",
    "            while (temp.next.next is not None):\n",
    "                temp = temp.next\n",
    "            temp.next = None\n",
    "\n",
    "    def delete_item(self,item):\n",
    "        if self.start is None:\n",
    "            pass\n",
    "        elif self.start.next is None :\n",
    "            if self.start.item == item:\n",
    "                self.start = None\n",
    "        else:\n",
    "            temp = self.start\n",
    "            if temp.item == item:\n",
    "                self.start =  temp.next\n",
    "            else:\n",
    "                while( temp.next is not None):\n",
    "                    if(temp.next.item == item):\n",
    "                        temp.next = temp.next.next\n",
    "                        break                        \n",
    "                    temp = temp.next\n",
    "\n",
    "    def __iter__(self):\n",
    "        return SLLIterator(self.start)\n",
    "                \n",
    "            \n",
    "            \n",
    "\n",
    "#driver code\n",
    "\n",
    "mylist = SLL()\n",
    "mylist.insert_at_start(20)\n",
    "mylist.insert_at_last(50)\n",
    "mylist.insert_at_last(40)\n",
    "mylist.insert_at_last(60)\n",
    "mylist.insert_after(25,mylist.search(20))\n",
    "mylist.print_list()\n",
    "mylist.delete_item(25)\n",
    "print('-------------')\n",
    "mylist.print_list()\n"
   ]
  },
  {
   "cell_type": "code",
   "execution_count": 29,
   "id": "e936fc53-cab7-4158-8be6-70f8294606b9",
   "metadata": {},
   "outputs": [
    {
     "ename": "TypeError",
     "evalue": "'SLL' object is not iterable",
     "output_type": "error",
     "traceback": [
      "\u001b[1;31m---------------------------------------------------------------------------\u001b[0m",
      "\u001b[1;31mTypeError\u001b[0m                                 Traceback (most recent call last)",
      "Cell \u001b[1;32mIn[29], line 1\u001b[0m\n\u001b[1;32m----> 1\u001b[0m \u001b[38;5;28;43;01mfor\u001b[39;49;00m\u001b[43m \u001b[49m\u001b[43mx\u001b[49m\u001b[43m \u001b[49m\u001b[38;5;129;43;01min\u001b[39;49;00m\u001b[43m \u001b[49m\u001b[43mmylist\u001b[49m\u001b[43m:\u001b[49m\n\u001b[0;32m      2\u001b[0m \u001b[43m    \u001b[49m\u001b[38;5;28;43mprint\u001b[39;49m\u001b[43m(\u001b[49m\u001b[43mx\u001b[49m\u001b[43m,\u001b[49m\u001b[43m \u001b[49m\u001b[43mend\u001b[49m\u001b[38;5;241;43m=\u001b[39;49m\u001b[38;5;124;43m'\u001b[39;49m\u001b[38;5;124;43m \u001b[39;49m\u001b[38;5;124;43m'\u001b[39;49m\u001b[43m)\u001b[49m\n",
      "\u001b[1;31mTypeError\u001b[0m: 'SLL' object is not iterable"
     ]
    }
   ],
   "source": [
    "for x in mylist:\n",
    "    print(x, end=' ')"
   ]
  },
  {
   "cell_type": "markdown",
   "id": "aff8917f-28a3-4ccb-8984-e890fc711abc",
   "metadata": {},
   "source": [
    "Creating my list as iterable , by default it is not iterable"
   ]
  },
  {
   "cell_type": "code",
   "execution_count": 31,
   "id": "927161e1-475f-4ebe-9773-ba5e8ea6404d",
   "metadata": {},
   "outputs": [],
   "source": [
    "class SLLIterator:\n",
    "    def __init__(self, start):\n",
    "        self.current = start\n",
    "\n",
    "    def __iter__(self):   # creating iterator\n",
    "        return self\n",
    "\n",
    "    def __next__(self):\n",
    "        if not self.current:\n",
    "            raise StopIteration\n",
    "        data = self.current.item\n",
    "        self.current = self.current.next\n",
    "        return data\n",
    "        "
   ]
  },
  {
   "cell_type": "code",
   "execution_count": 33,
   "id": "d0e855c5-d1ec-4381-8b9c-5197dc5a33d0",
   "metadata": {},
   "outputs": [
    {
     "name": "stdout",
     "output_type": "stream",
     "text": [
      "20 50 40 60 "
     ]
    }
   ],
   "source": [
    "for x in mylist:\n",
    "    print(x, end=' ')"
   ]
  }
 ],
 "metadata": {
  "kernelspec": {
   "display_name": "Python 3 (ipykernel)",
   "language": "python",
   "name": "python3"
  },
  "language_info": {
   "codemirror_mode": {
    "name": "ipython",
    "version": 3
   },
   "file_extension": ".py",
   "mimetype": "text/x-python",
   "name": "python",
   "nbconvert_exporter": "python",
   "pygments_lexer": "ipython3",
   "version": "3.11.3"
  }
 },
 "nbformat": 4,
 "nbformat_minor": 5
}
