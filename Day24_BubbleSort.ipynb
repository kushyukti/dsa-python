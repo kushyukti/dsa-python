{
 "cells": [
  {
   "cell_type": "code",
   "execution_count": 4,
   "id": "1de5b83b-4476-4a5f-a596-f00d6936d291",
   "metadata": {},
   "outputs": [
    {
     "name": "stdout",
     "output_type": "stream",
     "text": [
      "[12, 34, 50, 65, 67, 89, 99]\n"
     ]
    }
   ],
   "source": [
    "def bubble_sort(arr):\n",
    "    for iter in range(1,len(arr)):\n",
    "        for i in range(0,len(arr)-iter):\n",
    "            if (arr[i] > arr[i+1]):\n",
    "                arr[i],arr[i+1] = arr[i+1], arr[i]\n",
    "    return arr\n",
    "\n",
    "\n",
    "\n",
    "print(bubble_sort([34,67,89,50,12,65,99]))"
   ]
  },
  {
   "cell_type": "code",
   "execution_count": 5,
   "id": "1d6e48e8-4761-4d20-9cfb-1dddf426565e",
   "metadata": {},
   "outputs": [
    {
     "name": "stdout",
     "output_type": "stream",
     "text": [
      "[12, 34, 50, 65, 67, 89, 99]\n"
     ]
    }
   ],
   "source": [
    "def modifiedBubleSort(arr):\n",
    "    for iter in range(1,len(arr)):\n",
    "        flag = False\n",
    "        for i in range(0,len(arr)-iter):\n",
    "            if (arr[i] > arr[i+1]):\n",
    "                arr[i],arr[i+1] = arr[i+1], arr[i]\n",
    "                flag = True\n",
    "        if not flag:\n",
    "            break\n",
    "    return arr\n",
    "print(modifiedBubleSort([34,67,89,50,12,65,99]))"
   ]
  }
 ],
 "metadata": {
  "kernelspec": {
   "display_name": "Python 3 (ipykernel)",
   "language": "python",
   "name": "python3"
  },
  "language_info": {
   "codemirror_mode": {
    "name": "ipython",
    "version": 3
   },
   "file_extension": ".py",
   "mimetype": "text/x-python",
   "name": "python",
   "nbconvert_exporter": "python",
   "pygments_lexer": "ipython3",
   "version": "3.11.3"
  }
 },
 "nbformat": 4,
 "nbformat_minor": 5
}
