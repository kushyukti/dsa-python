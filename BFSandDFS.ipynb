{
 "cells": [
  {
   "cell_type": "raw",
   "id": "c7b7cc6d-41c9-4019-9b3c-89446fbade8f",
   "metadata": {},
   "source": [
    "Traversing \n",
    "There are two standard way of traversing a graph\n",
    "- BFS\n",
    "- DFS"
   ]
  },
  {
   "cell_type": "raw",
   "id": "5f9718d5-7f34-4dd7-930f-dfa51a7e95df",
   "metadata": {},
   "source": [
    "BFS (Breadth First Search)\n",
    "Traversing graph has only issue that graph may have cycle, you may revisit a node.\n",
    "To avoid processing a node more than once, we divide the vertices into two categories\n",
    "- visited\n",
    "- not visited"
   ]
  },
  {
   "cell_type": "raw",
   "id": "e8ce2134-f711-4520-94ec-75cffe52944f",
   "metadata": {},
   "source": [
    "a boolean visited array is used to mark the visited vertices\n",
    "BFS uses a queue data structure for traversal\n",
    "Traversing begin from a node called source node"
   ]
  },
  {
   "cell_type": "raw",
   "id": "ad9a04c3-c214-47ca-9f52-0ca03d215e13",
   "metadata": {},
   "source": [
    "BFS(G,s)\n",
    "    Let Q be the queue\n",
    "    Q.insert(s)\n",
    "    v[s] = True\n",
    "    while(!Q.isEmpty())\n",
    "    {\n",
    "        n = Q.getFront())\n",
    "        Q.del()\n",
    "        for all the neigbours u of n\n",
    "            if v[u] == False\n",
    "                Q.insert(u)\n",
    "                v[u] = True"
   ]
  }
 ],
 "metadata": {
  "kernelspec": {
   "display_name": "Python 3 (ipykernel)",
   "language": "python",
   "name": "python3"
  },
  "language_info": {
   "codemirror_mode": {
    "name": "ipython",
    "version": 3
   },
   "file_extension": ".py",
   "mimetype": "text/x-python",
   "name": "python",
   "nbconvert_exporter": "python",
   "pygments_lexer": "ipython3",
   "version": "3.11.3"
  }
 },
 "nbformat": 4,
 "nbformat_minor": 5
}
