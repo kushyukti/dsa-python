{
 "cells": [
  {
   "cell_type": "markdown",
   "id": "d02724b8-24b2-442c-8e86-2d842b19a9cf",
   "metadata": {},
   "source": [
    "### Priority Queue Using Linked List"
   ]
  },
  {
   "cell_type": "code",
   "execution_count": 1,
   "id": "91203aff-d722-4f0e-b747-5a73bc53305c",
   "metadata": {},
   "outputs": [],
   "source": [
    "class Node:\n",
    "    def __init__(self, item = None, priority = None, next = None):\n",
    "        self.item = item\n",
    "        self.priority = priority\n",
    "        self.next = next"
   ]
  },
  {
   "cell_type": "code",
   "execution_count": 6,
   "id": "eeb6de71-d278-478a-9a51-ef51a2d08b2a",
   "metadata": {},
   "outputs": [],
   "source": [
    "class PQULL:\n",
    "    def __init__(self):\n",
    "        self.item_count = 0\n",
    "        self.start = None\n",
    "\n",
    "    def is_empty(self):\n",
    "        return self.start == None\n",
    "\n",
    "    def push(self,data,priority):\n",
    "        newNode = Node(data,priority)\n",
    "\n",
    "        if (not self.start or priority < self.start.priority):\n",
    "            newNode.next = self.start\n",
    "            self.start = newNode\n",
    "        else:\n",
    "            temp = self.start\n",
    "            while temp.next and temp.next.priority <= priority:\n",
    "                temp = temp.next\n",
    "            newNode.next = temp.next\n",
    "            temp.next = newNode\n",
    "        self.item_count += 1\n",
    "\n",
    "\n",
    "    def pop(self):\n",
    "        if self.is_empty() :\n",
    "            raise IndexError(\"Priority Queue is Empty\")\n",
    "\n",
    "        else:\n",
    "            data = self.start.item\n",
    "            self.start = self.start.next            \n",
    "            self.item_count -= 1\n",
    "            return data\n",
    "\n",
    "    def size(self):\n",
    "        return self.item_count"
   ]
  },
  {
   "cell_type": "code",
   "execution_count": 10,
   "id": "7156e33f-77fd-4367-99e9-78b2daa12a84",
   "metadata": {},
   "outputs": [
    {
     "name": "stdout",
     "output_type": "stream",
     "text": [
      "4\n",
      "3\n",
      "4\n",
      "bla bla\n",
      "3\n",
      "--------\n",
      "0   Amit 1   Yukti 2   7 "
     ]
    }
   ],
   "source": [
    "p = PQULL()\n",
    "p.push(10,6)\n",
    "p.push(20,2)\n",
    "p.push(30,9)\n",
    "p.push(40,5)\n",
    "print(p.size())\n",
    "p.pop()\n",
    "print(p.size())\n",
    "\n",
    "pq = PQULL()\n",
    "pq.push(\"Amit\",4)\n",
    "pq.push(\"bla bla\",2)\n",
    "pq.push(\"Yukti\",7)\n",
    "pq.push(7,9)\n",
    "print(pq.size())\n",
    "print(pq.pop())\n",
    "print(pq.size())\n",
    "\n",
    "print(\"--------\")\n",
    "i=0\n",
    "while not pq.is_empty():\n",
    "    print(i , \" \" ,pq.pop(), end = ' ')\n",
    "    i += 1"
   ]
  }
 ],
 "metadata": {
  "kernelspec": {
   "display_name": "Python 3 (ipykernel)",
   "language": "python",
   "name": "python3"
  },
  "language_info": {
   "codemirror_mode": {
    "name": "ipython",
    "version": 3
   },
   "file_extension": ".py",
   "mimetype": "text/x-python",
   "name": "python",
   "nbconvert_exporter": "python",
   "pygments_lexer": "ipython3",
   "version": "3.11.3"
  }
 },
 "nbformat": 4,
 "nbformat_minor": 5
}
