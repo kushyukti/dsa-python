{
 "cells": [
  {
   "cell_type": "code",
   "execution_count": 3,
   "id": "cff0ba74-6488-4191-b334-efdf5d943a2b",
   "metadata": {},
   "outputs": [],
   "source": [
    "from SLL import *"
   ]
  },
  {
   "cell_type": "code",
   "execution_count": 8,
   "id": "45ea9f70-0706-44a9-ba35-2ae5a636f1b2",
   "metadata": {},
   "outputs": [],
   "source": [
    "class Stack:\n",
    "    def __init__(self):\n",
    "        self.myStackSLL = SLL()\n",
    "        self.item_count = 0\n",
    "\n",
    "    def is_empty(self):\n",
    "        return self.myStackSLL.is_empty()\n",
    "\n",
    "    def push(self,data):\n",
    "        self.myStackSLL.insert_at_start(data)\n",
    "        self.item_count += 1\n",
    "\n",
    "    def pop(self):\n",
    "        if not self.is_empty():\n",
    "            self.myStackSLL.delete_first()\n",
    "            self.item_count -= 1\n",
    "        else:\n",
    "            raise IndexError(\"Stack is Empty\")\n",
    "\n",
    "    def peek(self):\n",
    "        if not self.is_empty():\n",
    "            return self.myStackSLL.start.item\n",
    "        else:\n",
    "            raise IndexError(\"Stack is Empty\")\n",
    "\n",
    "\n",
    "    def size(self):\n",
    "        return self.item_count\n",
    "\n",
    "        \n",
    "        "
   ]
  },
  {
   "cell_type": "code",
   "execution_count": 9,
   "id": "160b3cbd-7c6b-4ef1-9b0b-55419c53dc53",
   "metadata": {},
   "outputs": [
    {
     "name": "stdout",
     "output_type": "stream",
     "text": [
      "top element of the stack is  50\n",
      "size of the stack is   4\n",
      "top element of the stack is  40\n",
      "size of the stack is   3\n"
     ]
    }
   ],
   "source": [
    "stackSLL = Stack()\n",
    "stackSLL.push(20)\n",
    "stackSLL.push(30)\n",
    "stackSLL.push(40)\n",
    "stackSLL.push(50)\n",
    "print(\"top element of the stack is \",stackSLL.peek())\n",
    "print(\"size of the stack is  \", stackSLL.size())\n",
    "stackSLL.pop()\n",
    "print(\"top element of the stack is \",stackSLL.peek())\n",
    "print(\"size of the stack is  \", stackSLL.size())"
   ]
  }
 ],
 "metadata": {
  "kernelspec": {
   "display_name": "Python 3 (ipykernel)",
   "language": "python",
   "name": "python3"
  },
  "language_info": {
   "codemirror_mode": {
    "name": "ipython",
    "version": 3
   },
   "file_extension": ".py",
   "mimetype": "text/x-python",
   "name": "python",
   "nbconvert_exporter": "python",
   "pygments_lexer": "ipython3",
   "version": "3.11.3"
  }
 },
 "nbformat": 4,
 "nbformat_minor": 5
}
