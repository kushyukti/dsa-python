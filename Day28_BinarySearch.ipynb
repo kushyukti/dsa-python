{
 "cells": [
  {
   "cell_type": "markdown",
   "id": "22682d69-e910-4291-b15e-c361bc5c3c59",
   "metadata": {},
   "source": [
    "### Binary Search"
   ]
  },
  {
   "cell_type": "markdown",
   "id": "227d91e6-ad1d-45bf-b6da-92b3d8c8c21f",
   "metadata": {},
   "source": [
    "The Binary Search algorithm searches through an array and returns the index of the value it searches for."
   ]
  },
  {
   "cell_type": "code",
   "execution_count": 4,
   "id": "0a285dce-7e3c-4228-92d1-b92fbad60af9",
   "metadata": {},
   "outputs": [
    {
     "name": "stdout",
     "output_type": "stream",
     "text": [
      "Value 5 found at index 2\n"
     ]
    }
   ],
   "source": [
    "def binarysearch(arr, val):\n",
    "    left = 0\n",
    "    right = len(arr) -1\n",
    "    while left <= right :\n",
    "        mid = (left + right) // 2\n",
    "\n",
    "        if arr[mid] == val:\n",
    "            return mid\n",
    "        if arr[mid] < val:\n",
    "            left = mid + 1\n",
    "        else:\n",
    "            right = mid -1\n",
    "    return -1\n",
    "myArray = [1, 3, 5, 7, 9, 11, 13, 15, 17, 19]\n",
    "result = binarysearch(myArray, 5)\n",
    "\n",
    "if result != -1:\n",
    "    print(\"Value\",5,\"found at index\", result)\n",
    "else:\n",
    "    print(\"Target not found in array.\")"
   ]
  }
 ],
 "metadata": {
  "kernelspec": {
   "display_name": "Python 3 (ipykernel)",
   "language": "python",
   "name": "python3"
  },
  "language_info": {
   "codemirror_mode": {
    "name": "ipython",
    "version": 3
   },
   "file_extension": ".py",
   "mimetype": "text/x-python",
   "name": "python",
   "nbconvert_exporter": "python",
   "pygments_lexer": "ipython3",
   "version": "3.11.3"
  }
 },
 "nbformat": 4,
 "nbformat_minor": 5
}
