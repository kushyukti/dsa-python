{
 "cells": [
  {
   "cell_type": "code",
   "execution_count": 1,
   "id": "09bece0f-d764-4346-8f42-3191c681995c",
   "metadata": {},
   "outputs": [],
   "source": [
    "class Node:\n",
    "    def __init__(self,item = None, next = None):\n",
    "        self.item = item\n",
    "        self.next = next"
   ]
  },
  {
   "cell_type": "code",
   "execution_count": 4,
   "id": "c52b2243-0071-492e-8666-f094fc67e880",
   "metadata": {},
   "outputs": [],
   "source": [
    "class CLL:\n",
    "    def __init__(self,last = None):\n",
    "        self.last = last\n",
    "\n",
    "    def is_empty(self):\n",
    "        return self.last == None\n",
    "\n",
    "    def insert_at_start(self,data):\n",
    "        newNode = Node(data)\n",
    "\n",
    "        if self.is_empty():\n",
    "            newNode.next = newNode\n",
    "            self.last = newNode\n",
    "        else:\n",
    "            newNode.next = self.last.next\n",
    "            self.last.next = newNode\n",
    "\n",
    "    def insert_at_last(self, data):\n",
    "        newNode = Node(data)\n",
    "\n",
    "        if self.is_empty():\n",
    "            newNode.next = newNode\n",
    "            self.last = newNode\n",
    "        else:\n",
    "            newNode.next = self.last.next\n",
    "            self.last.next = newNode\n",
    "            self.last = newNode\n",
    "\n",
    "    def search(self, data):\n",
    "        if self.is_empty():\n",
    "            return None\n",
    "        temp = self.last.next\n",
    "        while (temp!= self.last):\n",
    "            if(temp.item == data):\n",
    "                return \"Found\"\n",
    "            temp = temp.next\n",
    "        if temp.item == data:\n",
    "            return \"Found\"\n",
    "            \n",
    "    def insert_after(self,data,temp):\n",
    "        if temp is not None:\n",
    "            newNode = Node(data,temp.next)\n",
    "            temp.next = newNode\n",
    "            if temp == self.last:\n",
    "                self.last = newNode\n",
    "\n",
    "    def print_list(self):\n",
    "        temp = self.last.next\n",
    "        while temp != self.last:\n",
    "            print(temp.item, end = \" \")\n",
    "            temp = temp.next\n",
    "\n",
    "\n",
    "    def delete_first(self):\n",
    "        if not self.is_empty():\n",
    "            if self.last.next == self.last:\n",
    "                self.last = None\n",
    "            else:\n",
    "                self.last.next = self.last.next.next\n",
    "\n",
    "\n",
    "    def delete_last(self):\n",
    "        if not self.is_empty():\n",
    "            self.last = None\n",
    "        else:\n",
    "            temp = self.last.next\n",
    "            while temp.next != self.last:\n",
    "                temp = temp.next\n",
    "            temp.next = self.last.next\n",
    "            self.last = temp\n",
    "\n",
    "    def delete_node(self,val):\n",
    "        if not self.is_empty():\n",
    "            if self.last.next == self.last:\n",
    "                self.last = None\n",
    "        else:\n",
    "            if self.last.next.item == val:\n",
    "                self.delete_first()\n",
    "            else:\n",
    "                temp = self.last.next\n",
    "                while temp != self.last:\n",
    "                    if temp.next == self.last:\n",
    "                        if self.last.item == val:\n",
    "                            self.delete_last()\n",
    "                            break\n",
    "                    if(temp.next.item == val):\n",
    "                        temp.next = temp.next.next  \n",
    "                        break\n",
    "                    temp = temp.next     \n",
    "\n",
    "    def __iter__(self):\n",
    "        if self.last == None:\n",
    "            return CLLIterator(None)\n",
    "        else:\n",
    "            return CLLIterator(self.last.next)"
   ]
  },
  {
   "cell_type": "code",
   "execution_count": 5,
   "id": "3221db01-8336-49dc-a749-7f73e97a9d35",
   "metadata": {},
   "outputs": [
    {
     "name": "stdout",
     "output_type": "stream",
     "text": [
      "35 25 40 45 ------------------\n",
      "25 40 45 "
     ]
    }
   ],
   "source": [
    "l = CLL()\n",
    "l.insert_at_start(25)\n",
    "l.insert_at_start(35)\n",
    "l.insert_at_last(40)\n",
    "l.insert_at_last(45)\n",
    "l.insert_at_last(60)\n",
    "l.print_list()\n",
    "l.delete_first()\n",
    "print('------------------')\n",
    "l.print_list()"
   ]
  },
  {
   "cell_type": "code",
   "execution_count": 3,
   "id": "4e6c3893-918b-4468-ad84-6461c9a9e766",
   "metadata": {},
   "outputs": [],
   "source": [
    "class CLLIterator:\n",
    "    def __init__(self,start):\n",
    "        self.current = start\n",
    "        self.start = start\n",
    "        self.count = 0\n",
    "\n",
    "    def __iter__(self):\n",
    "        return self\n",
    "\n",
    "    def __next__(self):\n",
    "        if self.current == None: #list is empty\n",
    "            raise StopIteration\n",
    "\n",
    "        if self.current == self.start and self.count ==1:\n",
    "            raise StopIteration  \n",
    "        else:\n",
    "            self.count = 1\n",
    "\n",
    "        data = self.current.item\n",
    "        self.current = self.current.next\n",
    "        return data\n",
    "        "
   ]
  },
  {
   "cell_type": "code",
   "execution_count": 6,
   "id": "7e58958c-a378-48a0-8b88-6e4f28f6abdb",
   "metadata": {},
   "outputs": [
    {
     "name": "stdout",
     "output_type": "stream",
     "text": [
      "60 50 40 70 80 "
     ]
    }
   ],
   "source": [
    "cll = CLL()\n",
    "\n",
    "cll.insert_at_start(40)\n",
    "cll.insert_at_start(50)\n",
    "cll.insert_at_start(60)\n",
    "cll.insert_at_last(70)\n",
    "cll.insert_at_last(80)\n",
    "\n",
    "for x in cll:\n",
    "    print(x,end=' ')"
   ]
  }
 ],
 "metadata": {
  "kernelspec": {
   "display_name": "Python 3 (ipykernel)",
   "language": "python",
   "name": "python3"
  },
  "language_info": {
   "codemirror_mode": {
    "name": "ipython",
    "version": 3
   },
   "file_extension": ".py",
   "mimetype": "text/x-python",
   "name": "python",
   "nbconvert_exporter": "python",
   "pygments_lexer": "ipython3",
   "version": "3.11.3"
  }
 },
 "nbformat": 4,
 "nbformat_minor": 5
}
