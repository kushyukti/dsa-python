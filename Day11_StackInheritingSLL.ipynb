{
 "cells": [
  {
   "cell_type": "code",
   "execution_count": 1,
   "id": "2b433891-4ca4-4ff3-a3bb-301d5b42a328",
   "metadata": {},
   "outputs": [],
   "source": [
    "from SLL import *"
   ]
  },
  {
   "cell_type": "code",
   "execution_count": 8,
   "id": "bc574245-49af-498e-ada9-321766737592",
   "metadata": {},
   "outputs": [],
   "source": [
    "class Stack(SLL):\n",
    "    def __init__(self):\n",
    "        super().__init__()\n",
    "        self.item_count = 0\n",
    "        \n",
    "    def is_Empty(self):\n",
    "        return super().is_empty()\n",
    "\n",
    "    def push(self,data):\n",
    "        super().insert_at_start(data)\n",
    "        self.item_count += 1\n",
    "\n",
    "    def pop(self):\n",
    "        if not self.is_Empty():\n",
    "            super().delete_first()\n",
    "            self.item_count -= 1\n",
    "        else:\n",
    "            raise IndexError(\"Stack is Empty\")\n",
    "\n",
    "    def peek(self):\n",
    "        if not self.is_Empty():\n",
    "            return self.start.item\n",
    "        else:\n",
    "            raise IndexError(\"Stack is Empty\")\n",
    "\n",
    "    def size(self):\n",
    "        return self.item_count\n",
    "\n",
    "\n",
    "            \n",
    "        "
   ]
  },
  {
   "cell_type": "code",
   "execution_count": 9,
   "id": "18ef28df-0877-4951-961a-37e2979f69f9",
   "metadata": {},
   "outputs": [
    {
     "name": "stdout",
     "output_type": "stream",
     "text": [
      "top element of the stack is  50\n",
      "size of the stack is   4\n",
      "top element of the stack is  40\n",
      "size of the stack is   3\n"
     ]
    }
   ],
   "source": [
    "stackSLL = Stack()\n",
    "stackSLL.push(20)\n",
    "stackSLL.push(30)\n",
    "stackSLL.push(40)\n",
    "stackSLL.push(50)\n",
    "print(\"top element of the stack is \",stackSLL.peek())\n",
    "print(\"size of the stack is  \", stackSLL.size())\n",
    "stackSLL.pop()\n",
    "print(\"top element of the stack is \",stackSLL.peek())\n",
    "print(\"size of the stack is  \", stackSLL.size())"
   ]
  }
 ],
 "metadata": {
  "kernelspec": {
   "display_name": "Python 3 (ipykernel)",
   "language": "python",
   "name": "python3"
  },
  "language_info": {
   "codemirror_mode": {
    "name": "ipython",
    "version": 3
   },
   "file_extension": ".py",
   "mimetype": "text/x-python",
   "name": "python",
   "nbconvert_exporter": "python",
   "pygments_lexer": "ipython3",
   "version": "3.11.3"
  }
 },
 "nbformat": 4,
 "nbformat_minor": 5
}
