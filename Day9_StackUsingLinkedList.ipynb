{
 "cells": [
  {
   "cell_type": "code",
   "execution_count": 10,
   "id": "806b0786-2c65-483c-8d5d-6bbe6bafddd3",
   "metadata": {},
   "outputs": [],
   "source": [
    "class Node:\n",
    "    def __init__(self, item= None, next = None):\n",
    "        self.item = item\n",
    "        self.next = next\n",
    "        \n",
    "        "
   ]
  },
  {
   "cell_type": "code",
   "execution_count": 16,
   "id": "74a3faf7-f7e3-4993-bd6e-6de2d5ecf26f",
   "metadata": {},
   "outputs": [],
   "source": [
    "class StackULL:\n",
    "\n",
    "    def __init__(self):\n",
    "        self.start = None\n",
    "        self.item_count = 0\n",
    "\n",
    "    def is_empty(self):\n",
    "        return self.start == None\n",
    "\n",
    "    def push(self,data):\n",
    "        newNode = Node(data, self.start)\n",
    "        self.start = newNode\n",
    "        self.item_count += 1 \n",
    "\n",
    "    def pop(self):\n",
    "        if not self.is_empty():\n",
    "            data = self.start.item\n",
    "            self.start = self.start.next\n",
    "            return data        \n",
    "        else:\n",
    "            raise IndexError(\"Stack is empty\")\n",
    "        \n",
    "\n",
    "    def peek(self):\n",
    "        if not self.is_empty():\n",
    "            return self.start.item\n",
    "        else:\n",
    "            raise IndexError(\"Stack is empty\")\n",
    "\n",
    "    def size(self):\n",
    "        return self.item_count\n",
    "\n",
    "    \n",
    "    \n",
    "        "
   ]
  },
  {
   "cell_type": "code",
   "execution_count": 17,
   "id": "a73389cb-95b6-472d-97fd-771720be39d5",
   "metadata": {},
   "outputs": [
    {
     "name": "stdout",
     "output_type": "stream",
     "text": [
      "-- 60\n",
      "-- 70\n"
     ]
    },
    {
     "ename": "IndexError",
     "evalue": "Stack is empty",
     "output_type": "error",
     "traceback": [
      "\u001b[1;31m---------------------------------------------------------------------------\u001b[0m",
      "\u001b[1;31mIndexError\u001b[0m                                Traceback (most recent call last)",
      "Cell \u001b[1;32mIn[17], line 10\u001b[0m\n\u001b[0;32m      8\u001b[0m \u001b[38;5;28mprint\u001b[39m(\u001b[38;5;124m\"\u001b[39m\u001b[38;5;124m--\u001b[39m\u001b[38;5;124m\"\u001b[39m,s\u001b[38;5;241m.\u001b[39mpeek())\n\u001b[0;32m      9\u001b[0m s2 \u001b[38;5;241m=\u001b[39m StackULL()\n\u001b[1;32m---> 10\u001b[0m \u001b[43ms2\u001b[49m\u001b[38;5;241;43m.\u001b[39;49m\u001b[43mpeek\u001b[49m\u001b[43m(\u001b[49m\u001b[43m)\u001b[49m\n",
      "Cell \u001b[1;32mIn[16], line 28\u001b[0m, in \u001b[0;36mStackULL.peek\u001b[1;34m(self)\u001b[0m\n\u001b[0;32m     26\u001b[0m     \u001b[38;5;28;01mreturn\u001b[39;00m \u001b[38;5;28mself\u001b[39m\u001b[38;5;241m.\u001b[39mstart\u001b[38;5;241m.\u001b[39mitem\n\u001b[0;32m     27\u001b[0m \u001b[38;5;28;01melse\u001b[39;00m:\n\u001b[1;32m---> 28\u001b[0m     \u001b[38;5;28;01mraise\u001b[39;00m \u001b[38;5;167;01mIndexError\u001b[39;00m(\u001b[38;5;124m\"\u001b[39m\u001b[38;5;124mStack is empty\u001b[39m\u001b[38;5;124m\"\u001b[39m)\n",
      "\u001b[1;31mIndexError\u001b[0m: Stack is empty"
     ]
    }
   ],
   "source": [
    "s = StackULL()\n",
    "s.push(90)\n",
    "s.push(80)\n",
    "s.push(70)\n",
    "s.push(60)\n",
    "print(\"--\",s.peek())\n",
    "s.pop()\n",
    "print(\"--\",s.peek())\n",
    "s2 = StackULL()\n",
    "s2.peek()"
   ]
  }
 ],
 "metadata": {
  "kernelspec": {
   "display_name": "Python 3 (ipykernel)",
   "language": "python",
   "name": "python3"
  },
  "language_info": {
   "codemirror_mode": {
    "name": "ipython",
    "version": 3
   },
   "file_extension": ".py",
   "mimetype": "text/x-python",
   "name": "python",
   "nbconvert_exporter": "python",
   "pygments_lexer": "ipython3",
   "version": "3.11.3"
  }
 },
 "nbformat": 4,
 "nbformat_minor": 5
}
