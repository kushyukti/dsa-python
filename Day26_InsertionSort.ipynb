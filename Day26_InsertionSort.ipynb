{
 "cells": [
  {
   "cell_type": "markdown",
   "id": "2aa670f0-f9a0-4cc4-ba4c-25b5e8c7d58e",
   "metadata": {},
   "source": [
    "### Insertion Sort"
   ]
  },
  {
   "cell_type": "raw",
   "id": "89349d22-7e76-4959-ba8d-33386d775df2",
   "metadata": {},
   "source": [
    "Insertion sort is a simple sorting algorithm that works by iteratively inserting each element of an unsorted list into its correct position in a sorted portion of the list. It is a stable sorting algorithm, meaning that elements with equal values maintain their relative order in the sorted output."
   ]
  },
  {
   "cell_type": "code",
   "execution_count": 4,
   "id": "5aaf5c9b-1458-4106-b2b5-0254548215e6",
   "metadata": {},
   "outputs": [
    {
     "name": "stdout",
     "output_type": "stream",
     "text": [
      "[3, 6, 8, 2, 7, 4, 1, 5] ' 1 '\n",
      "[3, 6, 8, 2, 7, 4, 1, 5] ' 2 '\n",
      "[2, 3, 6, 8, 7, 4, 1, 5] ' 3 '\n",
      "[2, 3, 6, 7, 8, 4, 1, 5] ' 4 '\n",
      "[2, 3, 4, 6, 7, 8, 1, 5] ' 5 '\n",
      "[1, 2, 3, 4, 6, 7, 8, 5] ' 6 '\n",
      "[1, 2, 3, 4, 5, 6, 7, 8] ' 7 '\n",
      "[1, 2, 3, 4, 5, 6, 7, 8]\n"
     ]
    }
   ],
   "source": [
    "def insertion_sort(arr):\n",
    "    n = len(arr)\n",
    "    for i in range(1,n):\n",
    "        insert_index = i\n",
    "        current_value = arr.pop(i)\n",
    "        for j in range(i-1, -1,-1):\n",
    "            if arr[j] > current_value:\n",
    "                insert_index = j\n",
    "        arr.insert(insert_index, current_value)\n",
    "        print(arr,'\\'',i,'\\'')\n",
    "\n",
    "    return arr\n",
    "\n",
    "print(insertion_sort([3,6,8,2,7,4,1,5]))\n"
   ]
  }
 ],
 "metadata": {
  "kernelspec": {
   "display_name": "Python 3 (ipykernel)",
   "language": "python",
   "name": "python3"
  },
  "language_info": {
   "codemirror_mode": {
    "name": "ipython",
    "version": 3
   },
   "file_extension": ".py",
   "mimetype": "text/x-python",
   "name": "python",
   "nbconvert_exporter": "python",
   "pygments_lexer": "ipython3",
   "version": "3.11.3"
  }
 },
 "nbformat": 4,
 "nbformat_minor": 5
}
