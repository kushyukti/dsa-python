{
 "cells": [
  {
   "cell_type": "code",
   "execution_count": 13,
   "id": "5d588c1c-c4d2-4688-b2e4-3c79a5627716",
   "metadata": {},
   "outputs": [],
   "source": [
    "class Stack(list):\n",
    "\n",
    "    def is_empty(self):\n",
    "        return len(self) == 0\n",
    "\n",
    "    def push(self,data):\n",
    "        self.append(data)\n",
    "\n",
    "    def pop(self):\n",
    "        if not self.is_empty():\n",
    "            super().pop()\n",
    "        else:\n",
    "            raise IndexError(\"Stack is Empty\")\n",
    "\n",
    "    def peek(self):\n",
    "        if not self.is_empty():\n",
    "            return self[-1]\n",
    "        else:\n",
    "            raise IndexError(\"Stack is Empty\")\n",
    "\n",
    "    def size(self):\n",
    "        return len(self)\n",
    "\n",
    "    # insert krne dega kyuki list inherrited , isiliye insert ko override kr diya hai\n",
    "    def insert(self,index,data):\n",
    "        raise AttributeError(\"No Attribute Insert in Stack\") #insert hai hi ni stack\n",
    "        \n",
    "    "
   ]
  },
  {
   "cell_type": "code",
   "execution_count": 14,
   "id": "2a7b3a7b-5944-4f29-9595-819c4d934798",
   "metadata": {},
   "outputs": [
    {
     "name": "stdout",
     "output_type": "stream",
     "text": [
      "Top element is  40\n",
      "30\n"
     ]
    }
   ],
   "source": [
    "s1 = Stack()\n",
    "s1.push(10)\n",
    "s1.push(20)\n",
    "s1.push(30)\n",
    "s1.push(40)\n",
    "print(\"Top element is \",s1.peek())\n",
    "s1.pop()\n",
    "print(s1.peek())"
   ]
  }
 ],
 "metadata": {
  "kernelspec": {
   "display_name": "Python 3 (ipykernel)",
   "language": "python",
   "name": "python3"
  },
  "language_info": {
   "codemirror_mode": {
    "name": "ipython",
    "version": 3
   },
   "file_extension": ".py",
   "mimetype": "text/x-python",
   "name": "python",
   "nbconvert_exporter": "python",
   "pygments_lexer": "ipython3",
   "version": "3.11.3"
  }
 },
 "nbformat": 4,
 "nbformat_minor": 5
}
