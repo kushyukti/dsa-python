{
 "cells": [
  {
   "cell_type": "markdown",
   "id": "ef416a53-5c41-4886-9998-182bffc281c5",
   "metadata": {},
   "source": [
    "Day 2 : Classes and Objects "
   ]
  },
  {
   "cell_type": "code",
   "execution_count": 9,
   "id": "cd69f949-6fd2-4978-9e89-34bc54c781fe",
   "metadata": {},
   "outputs": [],
   "source": [
    "class Person:\n",
    "    name = 'Yukei'\n",
    "\n",
    "    # init method or constructor\n",
    "    def __init__(self, name):\n",
    "        self.name = name\n",
    "\n",
    "    # another method\n",
    "    def hi(self):\n",
    "        print('Hi, my name is ', self.name)\n",
    "        "
   ]
  },
  {
   "cell_type": "code",
   "execution_count": 10,
   "id": "985e5805-54bc-4e2c-8d4f-26cc608f6ac8",
   "metadata": {},
   "outputs": [
    {
     "name": "stdout",
     "output_type": "stream",
     "text": [
      "Hi, my name is  Yukti\n",
      "Hi, my name is  Utkarsh\n",
      "Hi, my name is  Daksh\n"
     ]
    }
   ],
   "source": [
    "p1 = Person('Yukti')\n",
    "p2 = Person('Utkarsh')\n",
    "p3 = Person('Daksh')\n",
    "\n",
    "p1.hi()\n",
    "p2.hi()\n",
    "p3.hi()\n"
   ]
  },
  {
   "cell_type": "code",
   "execution_count": 13,
   "id": "a3428718-200a-43c8-b428-b02cc2ab67ad",
   "metadata": {},
   "outputs": [
    {
     "name": "stdout",
     "output_type": "stream",
     "text": [
      "3 5\n",
      "7 8\n"
     ]
    }
   ],
   "source": [
    "class Test:\n",
    "    def __init__(self,a,b):\n",
    "        self.a = a  # self.a is instance object variable, a is local variable\n",
    "        self.b = b\n",
    "\n",
    "t1 = Test(3,5)\n",
    "t2 = Test(7,8)\n",
    "\n",
    "print(t1.a,t1.b)\n",
    "print(t2.a,t2.b)"
   ]
  },
  {
   "cell_type": "code",
   "execution_count": 18,
   "id": "f1f01503-0f9e-4dbb-990f-8174a47915ac",
   "metadata": {},
   "outputs": [
    {
     "name": "stdout",
     "output_type": "stream",
     "text": [
      "None None None\n",
      "5 Yukti 50000\n"
     ]
    }
   ],
   "source": [
    "class Employee:\n",
    "    def __init__(self, emid=None, emname=None,emsalary=None):\n",
    "        self.id = emid\n",
    "        self.name = emname\n",
    "        self.salary = emsalary\n",
    "\n",
    "\n",
    "    def setEmpId(self,id):\n",
    "        self.id = id\n",
    "    def setEmpName(self,name):\n",
    "        self.name = name\n",
    "    def setEmpSalary(self,sal):\n",
    "        self.salary = sal\n",
    "\n",
    "    def getEmpId(self):\n",
    "        return self.id    \n",
    "    def getEmpName(self):\n",
    "        return self.name     \n",
    "    def getEmpSalary(self):\n",
    "        return self.salary\n",
    "\n",
    "\n",
    "e1 = Employee()\n",
    "e2 = Employee(1, \"Rahul\", 34000)\n",
    "\n",
    "print(e1.id,e1.name,e1.salary)\n",
    "e1.setEmpId(5)\n",
    "e1.setEmpName('Yukti')\n",
    "e1.setEmpSalary('50000')\n",
    "print(e1.getEmpId(), e1.getEmpName(), e1.getEmpSalary(), sep=\" \")\n",
    "        "
   ]
  }
 ],
 "metadata": {
  "kernelspec": {
   "display_name": "Python 3 (ipykernel)",
   "language": "python",
   "name": "python3"
  },
  "language_info": {
   "codemirror_mode": {
    "name": "ipython",
    "version": 3
   },
   "file_extension": ".py",
   "mimetype": "text/x-python",
   "name": "python",
   "nbconvert_exporter": "python",
   "pygments_lexer": "ipython3",
   "version": "3.11.3"
  }
 },
 "nbformat": 4,
 "nbformat_minor": 5
}
