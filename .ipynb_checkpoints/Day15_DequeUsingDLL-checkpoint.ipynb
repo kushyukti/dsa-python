{
 "cells": [
  {
   "cell_type": "code",
   "execution_count": 4,
   "id": "2c6d5134-2b13-4945-a720-dbf79e24d95e",
   "metadata": {},
   "outputs": [],
   "source": [
    "class Node:\n",
    "    def __init__(self, item = None, prev = None, next = None):\n",
    "        self.item = item\n",
    "        self.prev = prev\n",
    "        self.next = next"
   ]
  },
  {
   "cell_type": "code",
   "execution_count": 7,
   "id": "59df4aff-9066-409c-8d80-b3da297ad870",
   "metadata": {},
   "outputs": [],
   "source": [
    "class DequeDLL:\n",
    "    def __init__(self):\n",
    "        self.item_count = 0\n",
    "        self.front = None\n",
    "        self.rear = None\n",
    "\n",
    "    def is_empty(self):\n",
    "        return self.front == None\n",
    "\n",
    "    def insert_front(self,data):\n",
    "        newNode = Node(data,None,self.front)\n",
    "        if self.is_empty():\n",
    "            self.rear = newNode\n",
    "        else:\n",
    "            self.front.prev = newNode\n",
    "        self.front = newNode\n",
    "        self.item_count += 1\n",
    "\n",
    "    def insert_rear(self,data):\n",
    "        newNode = node(data, self.rear,self.front)\n",
    "        if not self.is_empty():\n",
    "            self.front = newNode\n",
    "        else:\n",
    "            self.rear.next = newNode       \n",
    "        self.rear = newNode\n",
    "        self.item_count += 1\n",
    "        \n",
    "    def delete_front(self):\n",
    "        if self.is_empty():    \n",
    "            raise IndexError(\"Deque is empty\")\n",
    "        elif self.front == self.rear :\n",
    "            self.front = None\n",
    "            self.rear = None\n",
    "        else:\n",
    "            self.front = self.front.next\n",
    "            self.front.prev = None\n",
    "        self.item_count -= 1\n",
    "\n",
    "    def delete_rear(self):\n",
    "        if self.is_empty():    \n",
    "            raise IndexError(\"Deque is empty\")\n",
    "        elif self.front == self.rear :\n",
    "            self.front = None\n",
    "            self.rear = None\n",
    "        else:\n",
    "            self.rear = self.rear.prev\n",
    "            self.rear.prev.next = None\n",
    "        self.item_count -= 1\n",
    "\n",
    "    def getFront(self):\n",
    "        if self.is_empty():    \n",
    "            raise IndexError(\"Deque is empty\")\n",
    "        else:\n",
    "            return self.front.item\n",
    "    def getRear(self):\n",
    "        if self.is_empty():    \n",
    "            raise IndexError(\"Deque is empty\")\n",
    "        else:\n",
    "            return self.rear.item\n",
    "\n",
    "    def size(self):\n",
    "        return self.item_count\n"
   ]
  },
  {
   "cell_type": "code",
   "execution_count": 8,
   "id": "4cd96572-c399-4542-9941-9eaf27d2a1cc",
   "metadata": {},
   "outputs": [
    {
     "name": "stdout",
     "output_type": "stream",
     "text": [
      "60\n",
      "20\n",
      "5\n",
      "60\n",
      "30\n",
      "4\n",
      "50\n",
      "30\n",
      "3\n"
     ]
    }
   ],
   "source": [
    "d = DequeDLL()\n",
    "d.insert_front(20)\n",
    "d.insert_front(30)\n",
    "d.insert_front(40)\n",
    "d.insert_front(50)\n",
    "d.insert_front(60)\n",
    "print(d.getFront())\n",
    "print(d.getRear())\n",
    "print(d.size())\n",
    "d.delete_rear()\n",
    "print(d.getFront())\n",
    "print(d.getRear())\n",
    "print(d.size())\n",
    "d.delete_front()\n",
    "print(d.getFront())\n",
    "print(d.getRear())\n",
    "print(d.size())\n"
   ]
  }
 ],
 "metadata": {
  "kernelspec": {
   "display_name": "Python 3 (ipykernel)",
   "language": "python",
   "name": "python3"
  },
  "language_info": {
   "codemirror_mode": {
    "name": "ipython",
    "version": 3
   },
   "file_extension": ".py",
   "mimetype": "text/x-python",
   "name": "python",
   "nbconvert_exporter": "python",
   "pygments_lexer": "ipython3",
   "version": "3.11.3"
  }
 },
 "nbformat": 4,
 "nbformat_minor": 5
}
