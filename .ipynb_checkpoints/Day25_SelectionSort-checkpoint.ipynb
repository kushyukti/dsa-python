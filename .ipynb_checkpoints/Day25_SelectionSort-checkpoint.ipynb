{
 "cells": [
  {
   "cell_type": "markdown",
   "id": "99f94159-58a0-4121-a429-94ea2f0b96af",
   "metadata": {},
   "source": [
    "### Selection Sort"
   ]
  },
  {
   "cell_type": "raw",
   "id": "e15ee0cb-4437-4aad-921b-025dcde80b3f",
   "metadata": {},
   "source": [
    "The algorithm divides the input list into two parts: a sorted sublist of items which is built up from left to right at the front(left) of the list and a sublist of the remaining unsorted items that occupy the rest of the list."
   ]
  },
  {
   "cell_type": "raw",
   "id": "1d5cfb7e-95c3-4141-8ea1-5ae8228f9157",
   "metadata": {},
   "source": [
    "- substract and conquer"
   ]
  },
  {
   "cell_type": "raw",
   "id": "ce189bfa-615f-4412-a0f4-4724de07a852",
   "metadata": {},
   "source": []
  },
  {
   "cell_type": "code",
   "execution_count": 3,
   "id": "ed64bf8a-444b-4c2c-9865-e647d40b21ea",
   "metadata": {},
   "outputs": [
    {
     "name": "stdout",
     "output_type": "stream",
     "text": [
      "[11, 25, 34, 62, 67, 89]\n"
     ]
    }
   ],
   "source": [
    "def SelectionSort(arr):\n",
    "    n = len(arr)\n",
    "    for i in range(n-1):\n",
    "        min_index = i \n",
    "        for j in range(i+1, n):\n",
    "            if (arr[j] < arr[min_index]):\n",
    "                min_index = j\n",
    "\n",
    "        arr[i],arr[min_index] = arr[min_index],arr[i]\n",
    "\n",
    "    return arr\n",
    "\n",
    "print(SelectionSort([25,11,62,89,34,67]))"
   ]
  },
  {
   "cell_type": "raw",
   "id": "f1300b4e-35b1-488b-a6a8-f13250f3c84e",
   "metadata": {},
   "source": [
    "29, 72, 98, 13, 87\n",
    "loop \n",
    "let min_index = 1 == 29\n",
    "loop 2 to n\n",
    "if arr[2] < arr[1] == no\n",
    "\n",
    "-- 2 to n :\n",
    "if arr[3] < arr[1]\n",
    "\n",
    "-- 3 to n:\n",
    "if arr[4] < arr[1] yes\n",
    "min_index = 4\n",
    "\n",
    "if arr[5] < arr[4] no\n",
    "\n",
    "\n",
    "swap(arr[1],arr[min_index])  \n",
    "\n",
    "now \n",
    " 13, 72, 98, 13, 87"
   ]
  }
 ],
 "metadata": {
  "kernelspec": {
   "display_name": "Python 3 (ipykernel)",
   "language": "python",
   "name": "python3"
  },
  "language_info": {
   "codemirror_mode": {
    "name": "ipython",
    "version": 3
   },
   "file_extension": ".py",
   "mimetype": "text/x-python",
   "name": "python",
   "nbconvert_exporter": "python",
   "pygments_lexer": "ipython3",
   "version": "3.11.3"
  }
 },
 "nbformat": 4,
 "nbformat_minor": 5
}
