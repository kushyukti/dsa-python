{
 "cells": [
  {
   "cell_type": "markdown",
   "id": "eb3aed71-cd0c-4ab1-a56c-3459f1834f84",
   "metadata": {},
   "source": [
    "### QuickSort"
   ]
  },
  {
   "cell_type": "raw",
   "id": "af5a0e3c-aba6-479e-bc5e-74fc43cf9a74",
   "metadata": {},
   "source": [
    "The Quicksort algorithm takes an array of values, chooses one of the values as the 'pivot' element, and moves the other values so that lower values are on the left of the pivot element, and higher values are on the right of it."
   ]
  },
  {
   "cell_type": "raw",
   "id": "7fa07ef1-8192-46e6-8043-4653ee40425b",
   "metadata": {},
   "source": [
    "Divide and Conquer"
   ]
  },
  {
   "cell_type": "markdown",
   "id": "d12f5907-4560-4a64-819a-a340d5616e22",
   "metadata": {},
   "source": [
    "The worst case scenario for Quicksort is O(n^2).\n",
    "But on average, the time complexity for Quicksort is O(nlogn)"
   ]
  },
  {
   "cell_type": "markdown",
   "id": "03e616f4-6275-4d02-a57a-86aca40a7df8",
   "metadata": {},
   "source": [
    "How it works:\n",
    "\n",
    "Choose a value in the array to be the pivot element.\n",
    "Order the rest of the array so that lower values than the pivot element are on the left, and higher values are on the right.\n",
    "Swap the pivot element with the first element of the higher values so that the pivot element lands in between the lower and higher values.\n",
    "Do the same operations (recursively) for the sub-arrays on the left and right side of the pivot element."
   ]
  },
  {
   "cell_type": "code",
   "execution_count": 2,
   "id": "f10d8026-53b8-4423-902a-e8072c9317d2",
   "metadata": {},
   "outputs": [
    {
     "name": "stdout",
     "output_type": "stream",
     "text": [
      "Sorted array: [5, 11, 12, 22, 25, 34, 64, 90]\n",
      "None\n"
     ]
    }
   ],
   "source": [
    "def partition(arr, low, high):\n",
    "    pivot = arr[high]\n",
    "    i = low - 1\n",
    "\n",
    "    for j in range(low, high):\n",
    "        if arr[j] <= pivot:\n",
    "            i += 1\n",
    "            arr[i], arr[j] = arr[j], arr[i]\n",
    "    arr[i+1] , arr[high] = arr[high], arr[i+1]\n",
    "    return i+1\n",
    "\n",
    "def quicksort(arr, low=0, high=None):\n",
    "    if high is None:\n",
    "        high = len(arr) -1 \n",
    "\n",
    "    if low < high :\n",
    "        pivot_index = partition(arr, low, high)\n",
    "        quicksort(arr, low, pivot_index-1)\n",
    "        quicksort(arr, pivot_index + 1, high)\n",
    "my_array = [64, 34, 25, 12, 22, 11, 90, 5]\n",
    "quicksort(my_array)\n",
    "print(\"Sorted array:\", my_array)\n",
    "print(quicksort([64, 34, 25, 12, 22, 11, 90, 5]))\n"
   ]
  }
 ],
 "metadata": {
  "kernelspec": {
   "display_name": "Python 3 (ipykernel)",
   "language": "python",
   "name": "python3"
  },
  "language_info": {
   "codemirror_mode": {
    "name": "ipython",
    "version": 3
   },
   "file_extension": ".py",
   "mimetype": "text/x-python",
   "name": "python",
   "nbconvert_exporter": "python",
   "pygments_lexer": "ipython3",
   "version": "3.11.3"
  }
 },
 "nbformat": 4,
 "nbformat_minor": 5
}
