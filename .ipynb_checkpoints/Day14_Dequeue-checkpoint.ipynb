{
 "cells": [
  {
   "cell_type": "markdown",
   "id": "4b82c7ed-6c34-4bc0-9860-16df9c957b4f",
   "metadata": {},
   "source": [
    "### Dequeue"
   ]
  },
  {
   "cell_type": "raw",
   "id": "ad81e92a-74fa-4585-87d2-14ed055717d5",
   "metadata": {},
   "source": [
    "a queue is an ordered list in which insertions are done at one end (rear or back) and deletions are done at other end (front)"
   ]
  },
  {
   "cell_type": "raw",
   "id": "4ca03dc5-2671-4d9b-93b8-01d6c12055be",
   "metadata": {},
   "source": [
    "Working principle - FIRST IN FIRST OUT\n"
   ]
  },
  {
   "cell_type": "raw",
   "id": "157429de-3f9c-4712-a057-07861c321517",
   "metadata": {},
   "source": [
    "Variations of Queue\n",
    "\n",
    " - insertion restricted "
   ]
  },
  {
   "attachments": {
    "1400ac30-0d7d-4315-bfee-13a966ac2900.png": {
     "image/png": "[encoded data removed]"
    }
   },
   "cell_type": "markdown",
   "id": "361baa7c-a34f-4ce3-a4ef-bf553013db22",
   "metadata": {},
   "source": [
    "![image.png](attachment:1400ac30-0d7d-4315-bfee-13a966ac2900.png)"
   ]
  },
  {
   "cell_type": "raw",
   "id": "59014c60-e3ac-46ed-a647-5afbd2c9e4fb",
   "metadata": {},
   "source": [
    "- deletion restricted"
   ]
  },
  {
   "attachments": {
    "9f959515-4e02-4b4f-80be-98db3dc29741.png": {
     "image/png": "[encoded data removed]"
    }
   },
   "cell_type": "markdown",
   "id": "5630e4bd-3e89-49b0-b324-1f0cbe211997",
   "metadata": {},
   "source": [
    "![image.png](attachment:9f959515-4e02-4b4f-80be-98db3dc29741.png)"
   ]
  },
  {
   "cell_type": "raw",
   "id": "8b612708-46cf-49b8-8411-46260de849b0",
   "metadata": {},
   "source": [
    "Deque is another variation of queue"
   ]
  },
  {
   "cell_type": "raw",
   "id": "dc64fae6-fad8-4c81-8000-9637be832a1f",
   "metadata": {},
   "source": [
    "Deque is double ended queue"
   ]
  },
  {
   "cell_type": "raw",
   "id": "3880096d-5b72-42c4-8168-01f37714e21f",
   "metadata": {},
   "source": [
    "Deque is a linear data structure where both ends can be used for insertion and deletion "
   ]
  },
  {
   "cell_type": "raw",
   "id": "043a5014-09fa-4410-a60f-bd2c0a73d309",
   "metadata": {},
   "source": [
    "Some deques may support random access depending on implementation"
   ]
  },
  {
   "cell_type": "raw",
   "id": "83c67386-909a-4c0d-a8fb-fccaae3d2df3",
   "metadata": {},
   "source": [
    "Operations on Deque\n",
    "- insert_front\n",
    "- insert_rear\n",
    "- delete_front\n",
    "- delete_rear\n",
    "- get_front\n",
    "- get_rear\n",
    "- is_empty\n",
    "- size"
   ]
  },
  {
   "cell_type": "raw",
   "id": "b3aa7276-c0ca-43a4-8d7e-df78697b458c",
   "metadata": {},
   "source": [
    "Implemetations of deque\n",
    "- using list\n",
    "- by extending list\n",
    "- using doubly linked list class\n",
    "- by extending doubly linked list class\n",
    "- using linked list concept"
   ]
  },
  {
   "cell_type": "code",
   "execution_count": 5,
   "id": "597e39a3-4dfe-4c21-b82c-6fc157857ba3",
   "metadata": {},
   "outputs": [],
   "source": [
    "class Deque:\n",
    "    def __init__(self):\n",
    "        self.dequeList = []\n",
    "\n",
    "    def is_empty(self):\n",
    "        return len(self.dequeList) == 0\n",
    "\n",
    "    def insert_front(self,data):\n",
    "        self.dequeList.insert(0,data)\n",
    "\n",
    "    def insert_rear(self, data):\n",
    "        self.dequeList.insert(len(self.item)-1,data)\n",
    "\n",
    "    \n",
    "    def delete_front(self):\n",
    "        if not self.is_empty():\n",
    "            self.dequeList.pop(0)\n",
    "        else:\n",
    "            raise IndexError(\"Deque is empty\")\n",
    "\n",
    "    def delete_rear(self):\n",
    "        if not self.is_empty():\n",
    "            self.dequeList.pop(-1)\n",
    "        else:\n",
    "            raise IndexError(\"Deque is empty\")\n",
    "\n",
    "    def getFront(self):\n",
    "        if not self.is_empty():\n",
    "            return self.dequeList[0]\n",
    "\n",
    "        else:\n",
    "            raise IndexError(\"Deque is empty\")\n",
    "\n",
    "\n",
    "    def getRear(self):\n",
    "        if not self.is_empty():\n",
    "            return self.dequeList[-1]\n",
    "        else:\n",
    "            raise IndexError(\"Deque is empty\")\n",
    "\n",
    "\n",
    "    def size(self):\n",
    "        return len(self.dequeList)\n",
    "            \n",
    "\n",
    "\n",
    "    "
   ]
  },
  {
   "cell_type": "code",
   "execution_count": 6,
   "id": "37519720-08ae-466d-a3c7-0a0398b4fe40",
   "metadata": {},
   "outputs": [
    {
     "name": "stdout",
     "output_type": "stream",
     "text": [
      "60\n",
      "20\n",
      "5\n",
      "60\n",
      "30\n",
      "4\n",
      "50\n",
      "30\n",
      "3\n"
     ]
    }
   ],
   "source": [
    "d = Deque()\n",
    "d.insert_front(20)\n",
    "d.insert_front(30)\n",
    "d.insert_front(40)\n",
    "d.insert_front(50)\n",
    "d.insert_front(60)\n",
    "print(d.getFront())\n",
    "print(d.getRear())\n",
    "print(d.size())\n",
    "d.delete_rear()\n",
    "print(d.getFront())\n",
    "print(d.getRear())\n",
    "print(d.size())\n",
    "d.delete_front()\n",
    "print(d.getFront())\n",
    "print(d.getRear())\n",
    "print(d.size())\n"
   ]
  }
 ],
 "metadata": {
  "kernelspec": {
   "display_name": "Python 3 (ipykernel)",
   "language": "python",
   "name": "python3"
  },
  "language_info": {
   "codemirror_mode": {
    "name": "ipython",
    "version": 3
   },
   "file_extension": ".py",
   "mimetype": "text/x-python",
   "name": "python",
   "nbconvert_exporter": "python",
   "pygments_lexer": "ipython3",
   "version": "3.11.3"
  }
 },
 "nbformat": 4,
 "nbformat_minor": 5
}
