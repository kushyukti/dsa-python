{
 "cells": [
  {
   "cell_type": "markdown",
   "id": "195857b4-d522-49ba-a1de-f97f7ef26d1e",
   "metadata": {},
   "source": [
    "### Queue"
   ]
  },
  {
   "cell_type": "raw",
   "id": "b010a109-5db5-49fc-a5fb-24d40acc2c47",
   "metadata": {},
   "source": [
    "rear -- (insertion)\n",
    "front -- (deletion)"
   ]
  },
  {
   "cell_type": "raw",
   "id": "4e5e57c2-5dcd-4bff-8aa9-75ac804de88e",
   "metadata": {},
   "source": [
    "operations on queue\n",
    "\n",
    "- enqueue\n",
    "- dequeue\n",
    "- is_empty\n",
    "- get_front\n",
    "- get_rear\n",
    "- size\n"
   ]
  },
  {
   "cell_type": "raw",
   "id": "1eefa32d-e799-4c2d-982c-ae259dfb12e9",
   "metadata": {},
   "source": [
    "real world examples\n",
    "- queue for roller coaster ride in amusement park\n",
    "- shuttlecock in a cylindrical box"
   ]
  },
  {
   "cell_type": "raw",
   "id": "132b43fe-e013-4721-979d-01e071e62a38",
   "metadata": {},
   "source": [
    "programming examples\n",
    "- print tasks in a printer\n",
    "- admission module to implement first come first serve\n",
    "- breadth first search"
   ]
  },
  {
   "cell_type": "raw",
   "id": "84672bf5-66b2-4923-b4d5-81db2cbafa47",
   "metadata": {},
   "source": [
    "implementation of queue\n",
    "\n",
    "- using list\n",
    "- by extending list class\n",
    "- using sll\n",
    "- by extending sll\n",
    "- using sll concept"
   ]
  },
  {
   "cell_type": "markdown",
   "id": "e0a2a19c-98b9-4cfa-8604-b4664dfada12",
   "metadata": {},
   "source": [
    "#### Queue using list"
   ]
  },
  {
   "cell_type": "code",
   "execution_count": 9,
   "id": "1ec4dc2f-d557-4c0d-8372-1286e46f9dc6",
   "metadata": {},
   "outputs": [],
   "source": [
    "class Queue:\n",
    "\n",
    "    def __init__(self):\n",
    "        self.queueList = []\n",
    "        self.item_count = 0\n",
    "\n",
    "    def is_empty(self):\n",
    "        #return self.item_count == 0 or we can also implement \n",
    "        return len(self.queueList) == 0\n",
    "\n",
    "    def enqueue(self, data):\n",
    "        self.queueList.append(data)\n",
    "        self.item_count += 1\n",
    "\n",
    "    def dequeue(self):\n",
    "        if not self.is_empty():\n",
    "            self.queueList.pop(0)\n",
    "            self.item_count -= 1\n",
    "        else:\n",
    "            raise IndexError(\"Queue UnderFlow\")\n",
    "\n",
    "    def getFront(self):\n",
    "        if not self.is_empty():\n",
    "            return self.queueList[0]\n",
    "        else:\n",
    "            raise IndexError(\"Queue UnderFlow\")\n",
    "\n",
    "    def getRear(self):\n",
    "        if not self.is_empty():\n",
    "            return self.queueList[-1]\n",
    "        else:\n",
    "            raise IndexError(\"Queue UnderFlow\")\n",
    "\n",
    "    def size(self):\n",
    "        return self.item_count"
   ]
  },
  {
   "cell_type": "code",
   "execution_count": 10,
   "id": "d9d9254f-6e18-4604-9c12-6472cd44dc47",
   "metadata": {},
   "outputs": [
    {
     "name": "stdout",
     "output_type": "stream",
     "text": [
      "Rear is  50\n",
      "Front is  10\n",
      "Size is  5\n",
      "Rear is  50\n",
      "Front is  20\n",
      "Size is  4\n"
     ]
    }
   ],
   "source": [
    "q = Queue()\n",
    "q.enqueue(10)\n",
    "q.enqueue(20)\n",
    "q.enqueue(30)\n",
    "q.enqueue(40)\n",
    "q.enqueue(50)\n",
    "print(\"Rear is \",q.getRear())\n",
    "print(\"Front is \",q.getFront())\n",
    "print(\"Size is \",q.size())\n",
    "q.dequeue()\n",
    "print(\"Rear is \",q.getRear())\n",
    "print(\"Front is \",q.getFront())\n",
    "print(\"Size is \",q.size())\n"
   ]
  },
  {
   "cell_type": "code",
   "execution_count": 15,
   "id": "f8c67f61-8ed3-462b-ab13-24d651bb4deb",
   "metadata": {},
   "outputs": [
    {
     "name": "stdout",
     "output_type": "stream",
     "text": [
      "Size is  0\n"
     ]
    },
    {
     "ename": "IndexError",
     "evalue": "Queue UnderFlow",
     "output_type": "error",
     "traceback": [
      "\u001b[1;31m---------------------------------------------------------------------------\u001b[0m",
      "\u001b[1;31mIndexError\u001b[0m                                Traceback (most recent call last)",
      "Cell \u001b[1;32mIn[15], line 3\u001b[0m\n\u001b[0;32m      1\u001b[0m q1 \u001b[38;5;241m=\u001b[39m Queue()\n\u001b[0;32m      2\u001b[0m \u001b[38;5;28mprint\u001b[39m(\u001b[38;5;124m\"\u001b[39m\u001b[38;5;124mSize is \u001b[39m\u001b[38;5;124m\"\u001b[39m,q1\u001b[38;5;241m.\u001b[39msize())\n\u001b[1;32m----> 3\u001b[0m \u001b[38;5;28mprint\u001b[39m(\u001b[38;5;124m\"\u001b[39m\u001b[38;5;124mRear is \u001b[39m\u001b[38;5;124m\"\u001b[39m,\u001b[43mq1\u001b[49m\u001b[38;5;241;43m.\u001b[39;49m\u001b[43mgetRear\u001b[49m\u001b[43m(\u001b[49m\u001b[43m)\u001b[49m)\n",
      "Cell \u001b[1;32mIn[9], line 32\u001b[0m, in \u001b[0;36mQueue.getRear\u001b[1;34m(self)\u001b[0m\n\u001b[0;32m     30\u001b[0m     \u001b[38;5;28;01mreturn\u001b[39;00m \u001b[38;5;28mself\u001b[39m\u001b[38;5;241m.\u001b[39mqueueList[\u001b[38;5;241m-\u001b[39m\u001b[38;5;241m1\u001b[39m]\n\u001b[0;32m     31\u001b[0m \u001b[38;5;28;01melse\u001b[39;00m:\n\u001b[1;32m---> 32\u001b[0m     \u001b[38;5;28;01mraise\u001b[39;00m \u001b[38;5;167;01mIndexError\u001b[39;00m(\u001b[38;5;124m\"\u001b[39m\u001b[38;5;124mQueue UnderFlow\u001b[39m\u001b[38;5;124m\"\u001b[39m)\n",
      "\u001b[1;31mIndexError\u001b[0m: Queue UnderFlow"
     ]
    }
   ],
   "source": [
    "q1 = Queue()\n",
    "print(\"Size is \",q1.size())\n",
    "print(\"Rear is \",q1.getRear())\n",
    "\n"
   ]
  },
  {
   "cell_type": "code",
   "execution_count": 14,
   "id": "3d6a6210-41f3-4b82-bb64-bb81630d1651",
   "metadata": {},
   "outputs": [
    {
     "name": "stdout",
     "output_type": "stream",
     "text": [
      "Size is  0\n"
     ]
    },
    {
     "ename": "IndexError",
     "evalue": "Queue UnderFlow",
     "output_type": "error",
     "traceback": [
      "\u001b[1;31m---------------------------------------------------------------------------\u001b[0m",
      "\u001b[1;31mIndexError\u001b[0m                                Traceback (most recent call last)",
      "Cell \u001b[1;32mIn[14], line 2\u001b[0m\n\u001b[0;32m      1\u001b[0m \u001b[38;5;28mprint\u001b[39m(\u001b[38;5;124m\"\u001b[39m\u001b[38;5;124mSize is \u001b[39m\u001b[38;5;124m\"\u001b[39m,q1\u001b[38;5;241m.\u001b[39msize())\n\u001b[1;32m----> 2\u001b[0m \u001b[38;5;28mprint\u001b[39m(\u001b[38;5;124m\"\u001b[39m\u001b[38;5;124mFront is \u001b[39m\u001b[38;5;124m\"\u001b[39m,\u001b[43mq1\u001b[49m\u001b[38;5;241;43m.\u001b[39;49m\u001b[43mgetFront\u001b[49m\u001b[43m(\u001b[49m\u001b[43m)\u001b[49m)\n",
      "Cell \u001b[1;32mIn[9], line 26\u001b[0m, in \u001b[0;36mQueue.getFront\u001b[1;34m(self)\u001b[0m\n\u001b[0;32m     24\u001b[0m     \u001b[38;5;28;01mreturn\u001b[39;00m \u001b[38;5;28mself\u001b[39m\u001b[38;5;241m.\u001b[39mqueueList[\u001b[38;5;241m0\u001b[39m]\n\u001b[0;32m     25\u001b[0m \u001b[38;5;28;01melse\u001b[39;00m:\n\u001b[1;32m---> 26\u001b[0m     \u001b[38;5;28;01mraise\u001b[39;00m \u001b[38;5;167;01mIndexError\u001b[39;00m(\u001b[38;5;124m\"\u001b[39m\u001b[38;5;124mQueue UnderFlow\u001b[39m\u001b[38;5;124m\"\u001b[39m)\n",
      "\u001b[1;31mIndexError\u001b[0m: Queue UnderFlow"
     ]
    }
   ],
   "source": [
    "print(\"Size is \",q1.size())\n",
    "print(\"Front is \",q1.getFront())"
   ]
  }
 ],
 "metadata": {
  "kernelspec": {
   "display_name": "Python 3 (ipykernel)",
   "language": "python",
   "name": "python3"
  },
  "language_info": {
   "codemirror_mode": {
    "name": "ipython",
    "version": 3
   },
   "file_extension": ".py",
   "mimetype": "text/x-python",
   "name": "python",
   "nbconvert_exporter": "python",
   "pygments_lexer": "ipython3",
   "version": "3.11.3"
  }
 },
 "nbformat": 4,
 "nbformat_minor": 5
}
