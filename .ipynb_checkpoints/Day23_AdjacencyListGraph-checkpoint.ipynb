{
 "cells": [
  {
   "cell_type": "markdown",
   "id": "4d9a4678-3341-4cd2-931c-51756b6605f7",
   "metadata": {},
   "source": [
    "### Adjacency List Implementation Of Graph"
   ]
  },
  {
   "cell_type": "code",
   "execution_count": 13,
   "id": "9c8b2ece-ad6a-4b31-8195-906989fccd66",
   "metadata": {},
   "outputs": [],
   "source": [
    "class Graph:\n",
    "    def __init__(self,vertex_count):\n",
    "        self.vertex_count = vertex_count\n",
    "        self.adj_list = {v:[] for v in range(vertex_count)}\n",
    "\n",
    "    def add_edge(self,u,v,weight = 1):\n",
    "        if self.vertex_count > u >= 0 and self.vertex_count > v >= 0 :\n",
    "            self.adj_list[u].append((v,weight))\n",
    "            self.adj_list[v].append((u,weight))\n",
    "        else:\n",
    "            print(\"Overflow\")\n",
    "    def remove_edge(self,u,v):\n",
    "        if self.vertex_count > u >= 0 and self.vertex_count > v >= 0 :\n",
    "            self.adj_list[u] = [(vertex, weight) for vertex, weight in self.adj_list[u] if vertex != v]\n",
    "            self.adj_list[v] = [(vertex, weight) for vertex, weight in self.adj_list[v] if vertex != u]\n",
    "        else:\n",
    "            print(\"Invalid vertex\")\n",
    "\n",
    "    def has_edge(self,u,v):\n",
    "        if self.vertex_count > u >= 0 and self.vertex_count > v >= 0 :\n",
    "          return any(vertex == v for vertex, x in self.adj_list[u])\n",
    "        else:\n",
    "            print(\"Invalid vertex\")\n",
    "    def print_adj_list(self):\n",
    "        for vertex , n in self.adj_list.items():\n",
    "            print(\"V\",vertex,\":\",n)"
   ]
  },
  {
   "cell_type": "code",
   "execution_count": 16,
   "id": "90570109-8684-4e55-89f3-e8d2656cbfbd",
   "metadata": {},
   "outputs": [
    {
     "name": "stdout",
     "output_type": "stream",
     "text": [
      "V 0 : [(1, 1)]\n",
      "V 1 : [(0, 1), (2, 1), (3, 1)]\n",
      "V 2 : [(1, 1), (4, 1)]\n",
      "V 3 : [(1, 1), (4, 1)]\n",
      "V 4 : [(2, 1), (3, 1)]\n",
      "*************\n",
      "V 0 : [(1, 1)]\n",
      "V 1 : [(0, 1), (2, 1)]\n",
      "V 2 : [(1, 1), (4, 1)]\n",
      "V 3 : [(4, 1)]\n",
      "V 4 : [(2, 1), (3, 1)]\n",
      "True\n",
      "Invalid vertex\n"
     ]
    }
   ],
   "source": [
    "g = Graph(5)\n",
    "g.add_edge(0,1)\n",
    "g.add_edge(1,2)\n",
    "g.add_edge(1,3)\n",
    "g.add_edge(2,4)\n",
    "g.add_edge(3,4)\n",
    "g.print_adj_list()\n",
    "print(\"*************\")\n",
    "g.remove_edge(3,1)\n",
    "g.print_adj_list()\n",
    "print(g.has_edge(4,3))\n",
    "g.has_edge(5,2)\n"
   ]
  }
 ],
 "metadata": {
  "kernelspec": {
   "display_name": "Python 3 (ipykernel)",
   "language": "python",
   "name": "python3"
  },
  "language_info": {
   "codemirror_mode": {
    "name": "ipython",
    "version": 3
   },
   "file_extension": ".py",
   "mimetype": "text/x-python",
   "name": "python",
   "nbconvert_exporter": "python",
   "pygments_lexer": "ipython3",
   "version": "3.11.3"
  }
 },
 "nbformat": 4,
 "nbformat_minor": 5
}
