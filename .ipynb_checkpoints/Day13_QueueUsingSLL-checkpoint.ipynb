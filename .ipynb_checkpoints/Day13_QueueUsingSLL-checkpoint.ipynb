{
 "cells": [
  {
   "cell_type": "markdown",
   "id": "a6cb053f-5c29-4a6e-bf87-0e3737018379",
   "metadata": {},
   "source": [
    "### Queue Using Singly Linked List"
   ]
  },
  {
   "cell_type": "code",
   "execution_count": 1,
   "id": "562e0807-ac67-47b3-9a1f-5be6b5dcf3b4",
   "metadata": {},
   "outputs": [],
   "source": [
    "class Node:\n",
    "    def __init__(self, item = None, next = None):\n",
    "        self.item = item\n",
    "        self.next = next"
   ]
  },
  {
   "cell_type": "code",
   "execution_count": 4,
   "id": "9ce83240-6f7d-42a9-ad2d-7c28d0b64d87",
   "metadata": {},
   "outputs": [],
   "source": [
    "class Queue:\n",
    "    def __init__(self):\n",
    "        self.front = None\n",
    "        self.Rear = None\n",
    "        self.item_count = 0\n",
    "\n",
    "    def is_empty(self):\n",
    "        #return self.item_count == 0\n",
    "        # or\n",
    "        return self.front == None\n",
    "\n",
    "    def enqueue(self,data):\n",
    "        newNode = Node(data)\n",
    "        if self.is_empty:\n",
    "            self.front = newNode\n",
    "        else:\n",
    "            self.rear.next = newNode\n",
    "        self.rear = newNode\n",
    "        self.item_count += 1\n",
    "\n",
    "    def dequeue(self):\n",
    "        if  self.is_empty:\n",
    "            raise IndexError(\"Queue Underflow\")\n",
    "        elif( self.front == self.rear):\n",
    "            self.front = None\n",
    "            self.rear = None\n",
    "        else:\n",
    "            self.front = self.front.next\n",
    "\n",
    "        self.item_count -= 1\n",
    "\n",
    "    def getFront(self):\n",
    "        if  self.is_empty:\n",
    "            raise IndexError(\"No Data in the queue\")\n",
    "        else:\n",
    "            return self.front.item\n",
    "    def getRear(self):\n",
    "        if  self.is_empty:\n",
    "            raise IndexError(\"No Data in the queue\")\n",
    "        else:\n",
    "            return self.rear.item\n",
    "\n",
    "    def size(self):\n",
    "        return item_count\n",
    "        \n",
    "        "
   ]
  },
  {
   "cell_type": "code",
   "execution_count": 5,
   "id": "ab0eaa9d-f468-4ae5-a6dc-9675d67febb5",
   "metadata": {},
   "outputs": [
    {
     "ename": "IndexError",
     "evalue": "No Data in the queue",
     "output_type": "error",
     "traceback": [
      "\u001b[1;31m---------------------------------------------------------------------------\u001b[0m",
      "\u001b[1;31mIndexError\u001b[0m                                Traceback (most recent call last)",
      "Cell \u001b[1;32mIn[5], line 7\u001b[0m\n\u001b[0;32m      5\u001b[0m q\u001b[38;5;241m.\u001b[39menqueue(\u001b[38;5;241m40\u001b[39m)\n\u001b[0;32m      6\u001b[0m q\u001b[38;5;241m.\u001b[39menqueue(\u001b[38;5;241m50\u001b[39m)\n\u001b[1;32m----> 7\u001b[0m \u001b[38;5;28mprint\u001b[39m(\u001b[38;5;124m\"\u001b[39m\u001b[38;5;124mRear is \u001b[39m\u001b[38;5;124m\"\u001b[39m,\u001b[43mq\u001b[49m\u001b[38;5;241;43m.\u001b[39;49m\u001b[43mgetRear\u001b[49m\u001b[43m(\u001b[49m\u001b[43m)\u001b[49m)\n\u001b[0;32m      8\u001b[0m \u001b[38;5;28mprint\u001b[39m(\u001b[38;5;124m\"\u001b[39m\u001b[38;5;124mFront is \u001b[39m\u001b[38;5;124m\"\u001b[39m,q\u001b[38;5;241m.\u001b[39mgetFront())\n\u001b[0;32m      9\u001b[0m \u001b[38;5;28mprint\u001b[39m(\u001b[38;5;124m\"\u001b[39m\u001b[38;5;124mSize is \u001b[39m\u001b[38;5;124m\"\u001b[39m,q\u001b[38;5;241m.\u001b[39msize())\n",
      "Cell \u001b[1;32mIn[4], line 39\u001b[0m, in \u001b[0;36mQueue.getRear\u001b[1;34m(self)\u001b[0m\n\u001b[0;32m     37\u001b[0m \u001b[38;5;28;01mdef\u001b[39;00m \u001b[38;5;21mgetRear\u001b[39m(\u001b[38;5;28mself\u001b[39m):\n\u001b[0;32m     38\u001b[0m     \u001b[38;5;28;01mif\u001b[39;00m  \u001b[38;5;28mself\u001b[39m\u001b[38;5;241m.\u001b[39mis_empty:\n\u001b[1;32m---> 39\u001b[0m         \u001b[38;5;28;01mraise\u001b[39;00m \u001b[38;5;167;01mIndexError\u001b[39;00m(\u001b[38;5;124m\"\u001b[39m\u001b[38;5;124mNo Data in the queue\u001b[39m\u001b[38;5;124m\"\u001b[39m)\n\u001b[0;32m     40\u001b[0m     \u001b[38;5;28;01melse\u001b[39;00m:\n\u001b[0;32m     41\u001b[0m         \u001b[38;5;28;01mreturn\u001b[39;00m \u001b[38;5;28mself\u001b[39m\u001b[38;5;241m.\u001b[39mrear\u001b[38;5;241m.\u001b[39mitem\n",
      "\u001b[1;31mIndexError\u001b[0m: No Data in the queue"
     ]
    }
   ],
   "source": [
    "q = Queue()\n",
    "q.enqueue(10)\n",
    "q.enqueue(20)\n",
    "q.enqueue(30)\n",
    "q.enqueue(40)\n",
    "q.enqueue(50)\n",
    "print(\"Rear is \",q.getRear())\n",
    "print(\"Front is \",q.getFront())\n",
    "print(\"Size is \",q.size())\n",
    "q.dequeue()\n",
    "print(\"Rear is \",q.getRear())\n",
    "print(\"Front is \",q.getFront())\n",
    "print(\"Size is \",q.size())\n"
   ]
  }
 ],
 "metadata": {
  "kernelspec": {
   "display_name": "Python 3 (ipykernel)",
   "language": "python",
   "name": "python3"
  },
  "language_info": {
   "codemirror_mode": {
    "name": "ipython",
    "version": 3
   },
   "file_extension": ".py",
   "mimetype": "text/x-python",
   "name": "python",
   "nbconvert_exporter": "python",
   "pygments_lexer": "ipython3",
   "version": "3.11.3"
  }
 },
 "nbformat": 4,
 "nbformat_minor": 5
}
