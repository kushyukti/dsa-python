{
 "cells": [
  {
   "cell_type": "markdown",
   "id": "085a292c-b402-4996-a5e6-7986f9d3796c",
   "metadata": {},
   "source": [
    "### Adjacency Matrix Implementation of Graph"
   ]
  },
  {
   "cell_type": "code",
   "execution_count": 11,
   "id": "83336c1b-45f4-4648-b780-4d52fee533c5",
   "metadata": {},
   "outputs": [],
   "source": [
    "class Graph:\n",
    "    def __init__(self, vertex_count ):\n",
    "        self.vertex_count = vertex_count\n",
    "        self.adj_matrix = [[0] * vertex_count for i in range(vertex_count)]\n",
    "\n",
    "    def add_edge(self,u,v,weight=1):\n",
    "        if self.vertex_count >= u >= 0  and self.vertex_count >= v >= 0:\n",
    "            self.adj_matrix[u][v] = weight\n",
    "            self.adj_matrix[v][u] = weight\n",
    "        else:\n",
    "            print(\"Invalid vertex\")\n",
    "\n",
    "    def remove_edge(self,u,v):\n",
    "        if self.vertex_count >= u >= 0  and self.vertex_count >= v >= 0:\n",
    "            self.adj_matrix[u][v] = 0\n",
    "            self.adj_matrix[v][u] = 0\n",
    "        else:\n",
    "            print(\"Invalid vertex\")            \n",
    "\n",
    "    def has_edge(self,u,v):\n",
    "        if self.vertex_count > u >= 0  and self.vertex_count > v >= 0:\n",
    "            return self.adj_matrix[u][v] != 0\n",
    "        else:\n",
    "            print(\"Invalid vertex\")\n",
    "\n",
    "\n",
    "    def print_adj_matrix(self):\n",
    "        for row_list in self.adj_matrix:\n",
    "            print(\" \".join(map(str, row_list)))\n",
    "    \n",
    "        "
   ]
  },
  {
   "cell_type": "code",
   "execution_count": 13,
   "id": "0c9c8bf8-8880-408b-98c4-32d32d63f778",
   "metadata": {},
   "outputs": [
    {
     "name": "stdout",
     "output_type": "stream",
     "text": [
      "0 1 0 0 0\n",
      "1 0 0 0 1\n",
      "0 0 0 0 0\n",
      "0 0 0 0 1\n",
      "0 1 0 1 0\n",
      "*************\n",
      "0 0 0 0 0\n",
      "0 0 0 0 1\n",
      "0 0 0 0 0\n",
      "0 0 0 0 1\n",
      "0 1 0 1 0\n",
      "True\n",
      "Invalid vertex\n"
     ]
    }
   ],
   "source": [
    "g = Graph(5)\n",
    "g.add_edge(0,1)\n",
    "g.add_edge(3,4)\n",
    "g.add_edge(0,1)\n",
    "g.add_edge(4,1)\n",
    "g.print_adj_matrix()\n",
    "print(\"*************\")\n",
    "g.remove_edge(0,1)\n",
    "g.print_adj_matrix()\n",
    "print(g.has_edge(4,3))\n",
    "g.has_edge(5,2)\n"
   ]
  }
 ],
 "metadata": {
  "kernelspec": {
   "display_name": "Python 3 (ipykernel)",
   "language": "python",
   "name": "python3"
  },
  "language_info": {
   "codemirror_mode": {
    "name": "ipython",
    "version": 3
   },
   "file_extension": ".py",
   "mimetype": "text/x-python",
   "name": "python",
   "nbconvert_exporter": "python",
   "pygments_lexer": "ipython3",
   "version": "3.11.3"
  }
 },
 "nbformat": 4,
 "nbformat_minor": 5
}
