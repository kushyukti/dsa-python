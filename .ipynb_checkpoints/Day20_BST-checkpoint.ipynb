{
 "cells": [
  {
   "cell_type": "markdown",
   "id": "ccb638fa-5643-4b56-a83b-5c7324e1d80b",
   "metadata": {},
   "source": [
    "### BST"
   ]
  },
  {
   "cell_type": "raw",
   "id": "87c568e0-0072-4179-865d-c8432570686e",
   "metadata": {},
   "source": [
    "a bst is the most important data structure, that enables one to search for and find an element with an average running time f(n) = O(log base2 b)\n",
    "\n",
    "- duplicate values are not allowed in BST\n",
    "- left child of node will be smaller   [ left < node ]\n",
    "- right child of node will be larger [ node < right ]\n",
    "\n",
    "Binary Search tree is a binary tree with the value of node N is greater than every value in the left subtree of N and is less than every value in the right subtree of N.\n",
    "\n",
    "Unless, explicitly said, BST doesn't allow duplicate values"
   ]
  },
  {
   "cell_type": "code",
   "execution_count": null,
   "id": "52cb4135-d8ec-4169-98f7-1586e48fd50e",
   "metadata": {},
   "outputs": [],
   "source": [
    "if duplicates values is allowed \n",
    "insert duplicate to the right"
   ]
  },
  {
   "cell_type": "code",
   "execution_count": null,
   "id": "941181f6-19ef-48a1-8ce1-0cf027bb2f7d",
   "metadata": {},
   "outputs": [],
   "source": [
    "Operations \n",
    "- node\n",
    "- insertion\n",
    "- traversing\n",
    "- search\n",
    "- deletion"
   ]
  },
  {
   "cell_type": "code",
   "execution_count": null,
   "id": "0635a9e9-fc81-47c2-baad-b837f1f4289f",
   "metadata": {},
   "outputs": [],
   "source": [
    "Traversing\n",
    "- Preoder =  Root ->  LeftSubtree -> RightSubtree\n",
    "- Inorder = LeftSubtree -> Root -> RightSubtree\n",
    "- Postorder = LeftSubtree -> RightSubtree -> Root"
   ]
  },
  {
   "cell_type": "code",
   "execution_count": null,
   "id": "1778640c-87a6-474f-85a6-981ec96a9ae5",
   "metadata": {},
   "outputs": [],
   "source": [
    "Deletion\n",
    "- No Child\n",
    "- Single Children\n",
    "- two Children"
   ]
  },
  {
   "cell_type": "code",
   "execution_count": 2,
   "id": "358e9005-5622-47f1-95b4-2fd6a56b058c",
   "metadata": {},
   "outputs": [],
   "source": [
    "class Node:\n",
    "    def __init__(self, item = None, left = None, right = None):\n",
    "        self.item = item\n",
    "        self.left = left\n",
    "        self.right = right"
   ]
  },
  {
   "cell_type": "code",
   "execution_count": 8,
   "id": "5713057b-559d-4a19-8220-6a54594372ef",
   "metadata": {},
   "outputs": [],
   "source": [
    "class BST:\n",
    "    def __init__(self):\n",
    "        self.root = None\n",
    "        self.item_count = 0\n",
    "\n",
    "    def insert(self,data):\n",
    "        self.root = self.rinsert(self.root,data)\n",
    "\n",
    "    def rinsert(self,root,data):\n",
    "        if root is None:\n",
    "            return Node(data)\n",
    "        if data < root.item:\n",
    "            root.left = self.rinsert(root.left,data)\n",
    "        elif data > root.item:\n",
    "            root.right = self.rinsert(root.right,data)\n",
    "        else:\n",
    "            raise IndexError(\"Duplicate is not allowed in BST\")\n",
    "        return root\n",
    "\n",
    "    def search(self, data):\n",
    "        if data < self.root.item:\n",
    "            \n",
    "\n",
    "    def rsearch(self,root, data):\n",
    "        if data < root.item:\n",
    "    \n",
    "\n",
    "\n",
    "    def size(self):\n",
    "        return self.item_count\n",
    "\n",
    "        \n",
    "            "
   ]
  },
  {
   "cell_type": "code",
   "execution_count": 9,
   "id": "5d7a3dd1-5fe8-4332-831f-8f7568b892e2",
   "metadata": {},
   "outputs": [
    {
     "name": "stdout",
     "output_type": "stream",
     "text": [
      "0\n"
     ]
    },
    {
     "ename": "IndexError",
     "evalue": "Duplicate is not allowed in BST",
     "output_type": "error",
     "traceback": [
      "\u001b[1;31m---------------------------------------------------------------------------\u001b[0m",
      "\u001b[1;31mIndexError\u001b[0m                                Traceback (most recent call last)",
      "Cell \u001b[1;32mIn[9], line 7\u001b[0m\n\u001b[0;32m      5\u001b[0m b\u001b[38;5;241m.\u001b[39minsert(\u001b[38;5;241m80\u001b[39m)\n\u001b[0;32m      6\u001b[0m \u001b[38;5;28mprint\u001b[39m(b\u001b[38;5;241m.\u001b[39msize())\n\u001b[1;32m----> 7\u001b[0m \u001b[43mb\u001b[49m\u001b[38;5;241;43m.\u001b[39;49m\u001b[43minsert\u001b[49m\u001b[43m(\u001b[49m\u001b[38;5;241;43m80\u001b[39;49m\u001b[43m)\u001b[49m\n",
      "Cell \u001b[1;32mIn[8], line 7\u001b[0m, in \u001b[0;36mBST.insert\u001b[1;34m(self, data)\u001b[0m\n\u001b[0;32m      6\u001b[0m \u001b[38;5;28;01mdef\u001b[39;00m \u001b[38;5;21minsert\u001b[39m(\u001b[38;5;28mself\u001b[39m,data):\n\u001b[1;32m----> 7\u001b[0m     \u001b[38;5;28mself\u001b[39m\u001b[38;5;241m.\u001b[39mroot \u001b[38;5;241m=\u001b[39m \u001b[38;5;28;43mself\u001b[39;49m\u001b[38;5;241;43m.\u001b[39;49m\u001b[43mrinsert\u001b[49m\u001b[43m(\u001b[49m\u001b[38;5;28;43mself\u001b[39;49m\u001b[38;5;241;43m.\u001b[39;49m\u001b[43mroot\u001b[49m\u001b[43m,\u001b[49m\u001b[43mdata\u001b[49m\u001b[43m)\u001b[49m\n",
      "Cell \u001b[1;32mIn[8], line 15\u001b[0m, in \u001b[0;36mBST.rinsert\u001b[1;34m(self, root, data)\u001b[0m\n\u001b[0;32m     13\u001b[0m     root\u001b[38;5;241m.\u001b[39mleft \u001b[38;5;241m=\u001b[39m \u001b[38;5;28mself\u001b[39m\u001b[38;5;241m.\u001b[39mrinsert(root\u001b[38;5;241m.\u001b[39mleft,data)\n\u001b[0;32m     14\u001b[0m \u001b[38;5;28;01melif\u001b[39;00m data \u001b[38;5;241m>\u001b[39m root\u001b[38;5;241m.\u001b[39mitem:\n\u001b[1;32m---> 15\u001b[0m     root\u001b[38;5;241m.\u001b[39mright \u001b[38;5;241m=\u001b[39m \u001b[38;5;28;43mself\u001b[39;49m\u001b[38;5;241;43m.\u001b[39;49m\u001b[43mrinsert\u001b[49m\u001b[43m(\u001b[49m\u001b[43mroot\u001b[49m\u001b[38;5;241;43m.\u001b[39;49m\u001b[43mright\u001b[49m\u001b[43m,\u001b[49m\u001b[43mdata\u001b[49m\u001b[43m)\u001b[49m\n\u001b[0;32m     16\u001b[0m \u001b[38;5;28;01melse\u001b[39;00m:\n\u001b[0;32m     17\u001b[0m     \u001b[38;5;28;01mraise\u001b[39;00m \u001b[38;5;167;01mIndexError\u001b[39;00m(\u001b[38;5;124m\"\u001b[39m\u001b[38;5;124mDuplicate is not allowed in BST\u001b[39m\u001b[38;5;124m\"\u001b[39m)\n",
      "Cell \u001b[1;32mIn[8], line 15\u001b[0m, in \u001b[0;36mBST.rinsert\u001b[1;34m(self, root, data)\u001b[0m\n\u001b[0;32m     13\u001b[0m     root\u001b[38;5;241m.\u001b[39mleft \u001b[38;5;241m=\u001b[39m \u001b[38;5;28mself\u001b[39m\u001b[38;5;241m.\u001b[39mrinsert(root\u001b[38;5;241m.\u001b[39mleft,data)\n\u001b[0;32m     14\u001b[0m \u001b[38;5;28;01melif\u001b[39;00m data \u001b[38;5;241m>\u001b[39m root\u001b[38;5;241m.\u001b[39mitem:\n\u001b[1;32m---> 15\u001b[0m     root\u001b[38;5;241m.\u001b[39mright \u001b[38;5;241m=\u001b[39m \u001b[38;5;28;43mself\u001b[39;49m\u001b[38;5;241;43m.\u001b[39;49m\u001b[43mrinsert\u001b[49m\u001b[43m(\u001b[49m\u001b[43mroot\u001b[49m\u001b[38;5;241;43m.\u001b[39;49m\u001b[43mright\u001b[49m\u001b[43m,\u001b[49m\u001b[43mdata\u001b[49m\u001b[43m)\u001b[49m\n\u001b[0;32m     16\u001b[0m \u001b[38;5;28;01melse\u001b[39;00m:\n\u001b[0;32m     17\u001b[0m     \u001b[38;5;28;01mraise\u001b[39;00m \u001b[38;5;167;01mIndexError\u001b[39;00m(\u001b[38;5;124m\"\u001b[39m\u001b[38;5;124mDuplicate is not allowed in BST\u001b[39m\u001b[38;5;124m\"\u001b[39m)\n",
      "Cell \u001b[1;32mIn[8], line 15\u001b[0m, in \u001b[0;36mBST.rinsert\u001b[1;34m(self, root, data)\u001b[0m\n\u001b[0;32m     13\u001b[0m     root\u001b[38;5;241m.\u001b[39mleft \u001b[38;5;241m=\u001b[39m \u001b[38;5;28mself\u001b[39m\u001b[38;5;241m.\u001b[39mrinsert(root\u001b[38;5;241m.\u001b[39mleft,data)\n\u001b[0;32m     14\u001b[0m \u001b[38;5;28;01melif\u001b[39;00m data \u001b[38;5;241m>\u001b[39m root\u001b[38;5;241m.\u001b[39mitem:\n\u001b[1;32m---> 15\u001b[0m     root\u001b[38;5;241m.\u001b[39mright \u001b[38;5;241m=\u001b[39m \u001b[38;5;28;43mself\u001b[39;49m\u001b[38;5;241;43m.\u001b[39;49m\u001b[43mrinsert\u001b[49m\u001b[43m(\u001b[49m\u001b[43mroot\u001b[49m\u001b[38;5;241;43m.\u001b[39;49m\u001b[43mright\u001b[49m\u001b[43m,\u001b[49m\u001b[43mdata\u001b[49m\u001b[43m)\u001b[49m\n\u001b[0;32m     16\u001b[0m \u001b[38;5;28;01melse\u001b[39;00m:\n\u001b[0;32m     17\u001b[0m     \u001b[38;5;28;01mraise\u001b[39;00m \u001b[38;5;167;01mIndexError\u001b[39;00m(\u001b[38;5;124m\"\u001b[39m\u001b[38;5;124mDuplicate is not allowed in BST\u001b[39m\u001b[38;5;124m\"\u001b[39m)\n",
      "Cell \u001b[1;32mIn[8], line 17\u001b[0m, in \u001b[0;36mBST.rinsert\u001b[1;34m(self, root, data)\u001b[0m\n\u001b[0;32m     15\u001b[0m     root\u001b[38;5;241m.\u001b[39mright \u001b[38;5;241m=\u001b[39m \u001b[38;5;28mself\u001b[39m\u001b[38;5;241m.\u001b[39mrinsert(root\u001b[38;5;241m.\u001b[39mright,data)\n\u001b[0;32m     16\u001b[0m \u001b[38;5;28;01melse\u001b[39;00m:\n\u001b[1;32m---> 17\u001b[0m     \u001b[38;5;28;01mraise\u001b[39;00m \u001b[38;5;167;01mIndexError\u001b[39;00m(\u001b[38;5;124m\"\u001b[39m\u001b[38;5;124mDuplicate is not allowed in BST\u001b[39m\u001b[38;5;124m\"\u001b[39m)\n\u001b[0;32m     18\u001b[0m \u001b[38;5;28;01mreturn\u001b[39;00m root\n",
      "\u001b[1;31mIndexError\u001b[0m: Duplicate is not allowed in BST"
     ]
    }
   ],
   "source": [
    "b = BST()\n",
    "b.insert(10)\n",
    "b.insert(20)\n",
    "b.insert(60)\n",
    "b.insert(80)\n",
    "print(b.size())\n",
    "b.insert(80)\n",
    "\n"
   ]
  }
 ],
 "metadata": {
  "kernelspec": {
   "display_name": "Python 3 (ipykernel)",
   "language": "python",
   "name": "python3"
  },
  "language_info": {
   "codemirror_mode": {
    "name": "ipython",
    "version": 3
   },
   "file_extension": ".py",
   "mimetype": "text/x-python",
   "name": "python",
   "nbconvert_exporter": "python",
   "pygments_lexer": "ipython3",
   "version": "3.11.3"
  }
 },
 "nbformat": 4,
 "nbformat_minor": 5
}
