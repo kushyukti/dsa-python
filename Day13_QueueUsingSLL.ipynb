{
 "cells": [
  {
   "cell_type": "markdown",
   "id": "a6cb053f-5c29-4a6e-bf87-0e3737018379",
   "metadata": {},
   "source": [
    "### Queue Using Singly Linked List"
   ]
  },
  {
   "cell_type": "code",
   "execution_count": 1,
   "id": "562e0807-ac67-47b3-9a1f-5be6b5dcf3b4",
   "metadata": {},
   "outputs": [],
   "source": [
    "class Node:\n",
    "    def __init__(self, item = None, next = None):\n",
    "        self.item = item\n",
    "        self.next = next"
   ]
  },
  {
   "cell_type": "code",
   "execution_count": 39,
   "id": "9ce83240-6f7d-42a9-ad2d-7c28d0b64d87",
   "metadata": {},
   "outputs": [],
   "source": [
    "class Queue:\n",
    "    def __init__(self):\n",
    "        self.front = None\n",
    "        self.rear = None\n",
    "        self.item_count = 0\n",
    "\n",
    "    def is_empty(self):\n",
    "        #return self.item_count == 0\n",
    "        # or\n",
    "        return self.front == None\n",
    "\n",
    "    def enqueue(self,data):\n",
    "        newNode = Node(data)\n",
    "        if self.is_empty():\n",
    "            self.front = newNode\n",
    "        else:\n",
    "            self.rear.next = newNode\n",
    "        self.rear = newNode\n",
    "        self.item_count += 1\n",
    "\n",
    "    def dequeue(self):\n",
    "        if  self.is_empty():\n",
    "            raise IndexError(\"Queue Underflow\")\n",
    "        elif( self.front == self.rear):\n",
    "            self.front = None\n",
    "            self.rear = None\n",
    "        else:\n",
    "            self.front = self.front.next\n",
    "        self.item_count -= 1\n",
    "\n",
    "    def getFront(self):\n",
    "        if  self.is_empty():\n",
    "            raise IndexError(\"No Data in the queue\")\n",
    "        else:\n",
    "            return self.front.item\n",
    "    def getRear(self):\n",
    "        if not self.is_empty():\n",
    "            return self.rear.item\n",
    "        else:\n",
    "            raise IndexError(\"No Data in the queue\")\n",
    "\n",
    "    def size(self):\n",
    "        return self.item_count\n",
    "        \n",
    "        "
   ]
  },
  {
   "cell_type": "code",
   "execution_count": 40,
   "id": "ab0eaa9d-f468-4ae5-a6dc-9675d67febb5",
   "metadata": {},
   "outputs": [
    {
     "name": "stdout",
     "output_type": "stream",
     "text": [
      "Size is  5\n",
      "Rear is  50\n",
      "Front is  10\n",
      "Size is  4\n",
      "Rear is  50\n",
      "Front is  20\n"
     ]
    }
   ],
   "source": [
    "q = Queue()\n",
    "q.enqueue(10)\n",
    "q.enqueue(20)\n",
    "q.enqueue(30)\n",
    "q.enqueue(40)\n",
    "q.enqueue(50)\n",
    "print(\"Size is \",q.size())\n",
    "print(\"Rear is \",q.getRear())\n",
    "print(\"Front is \",q.getFront())\n",
    "q.dequeue()\n",
    "print(\"Size is \",q.size())\n",
    "print(\"Rear is \",q.getRear())\n",
    "print(\"Front is \",q.getFront())"
   ]
  }
 ],
 "metadata": {
  "kernelspec": {
   "display_name": "Python 3 (ipykernel)",
   "language": "python",
   "name": "python3"
  },
  "language_info": {
   "codemirror_mode": {
    "name": "ipython",
    "version": 3
   },
   "file_extension": ".py",
   "mimetype": "text/x-python",
   "name": "python",
   "nbconvert_exporter": "python",
   "pygments_lexer": "ipython3",
   "version": "3.11.3"
  }
 },
 "nbformat": 4,
 "nbformat_minor": 5
}
